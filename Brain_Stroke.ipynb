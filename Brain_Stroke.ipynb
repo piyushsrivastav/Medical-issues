{
  "cells": [
    {
      "cell_type": "markdown",
      "metadata": {
        "id": "view-in-github",
        "colab_type": "text"
      },
      "source": [
        "<a href=\"https://colab.research.google.com/github/piyushsrivastav/Medical-issues/blob/main/Brain_Stroke.ipynb\" target=\"_parent\"><img src=\"https://colab.research.google.com/assets/colab-badge.svg\" alt=\"Open In Colab\"/></a>"
      ]
    },
    {
      "cell_type": "markdown",
      "id": "ba50ca28",
      "metadata": {
        "id": "ba50ca28"
      },
      "source": [
        "# Brain Stroke Prediction"
      ]
    },
    {
      "cell_type": "markdown",
      "id": "a9937ece",
      "metadata": {
        "id": "a9937ece"
      },
      "source": [
        "### Context:\n",
        "\n",
        "A stroke is a medical condition in which poor blood flow to the brain causes cell death. There are two main types of stroke: ischemic, due to lack of blood flow, and hemorrhagic, due to bleeding. Both cause parts of the brain to stop functioning properly. Signs and symptoms of a stroke may include an inability to move or feel on one side of the body, problems understanding or speaking, dizziness, or loss of vision to one side. Signs and symptoms often appear soon after the stroke has occurred. If symptoms last less than one or two hours, the stroke is a transient ischemic attack (TIA), also called a mini-stroke. A hemorrhagic stroke may also be associated with a severe headache. The symptoms of a stroke can be permanent. Long-term complications may include pneumonia and loss of bladder control.\n",
        "\n",
        "The main risk factor for stroke is high blood pressure. Other risk factors include high blood cholesterol, tobacco smoking, obesity, diabetes mellitus, a previous TIA, end-stage kidney disease, and atrial fibrillation. An ischemic stroke is typically caused by blockage of a blood vessel, though there are also less common causes. A hemorrhagic stroke is caused by either bleeding directly into the brain or into the space between the brain's membranes. Bleeding may occur due to a ruptured brain aneurysm. Diagnosis is typically based on a physical exam and is supported by medical imaging such as a CT scan or MRI scan. A CT scan can rule out bleeding, but may not necessarily rule out ischemia, which early on typically does not show up on a CT scan. Other tests such as an electrocardiogram (ECG) and blood tests are done to determine risk factors and rule out other possible causes. Low blood sugar may cause similar symptoms.\n",
        "\n",
        "Prevention includes decreasing risk factors, surgery to open up the arteries to the brain in those with problematic carotid narrowing, and warfarin in people with atrial fibrillation. Aspirin or statins may be recommended by physicians for prevention. A stroke or TIA often requires emergency care. An ischemic stroke, if detected within three to four and half hours, may be treatable with a medication that can break down the clot. Some hemorrhagic strokes benefit from surgery. Treatment to attempt recovery of lost function is called stroke rehabilitation, and ideally takes place in a stroke unit; however, these are not available in much of the world."
      ]
    },
    {
      "cell_type": "markdown",
      "id": "73245002",
      "metadata": {
        "id": "73245002"
      },
      "source": [
        "### Objective:\n",
        "- Build a machine learning model to predict if a person will suffer from Brain Stroke or not by using feature engineering and ensemble methods."
      ]
    },
    {
      "cell_type": "markdown",
      "id": "43d79c94",
      "metadata": {
        "id": "43d79c94"
      },
      "source": [
        "### Dataset Information:\n",
        "Dataset has around 4981 instances and 11 features and includes target column as stroke.(1 = had a stroke or 0 = hasn't suffered from stroke )\n",
        "\n",
        "#### Attribute Information:\n",
        "- **Gender:** Gender of the individual.\n",
        "- **Age:** Age of the individual.\n",
        "- **Hyper Tension:**  0 if the patient doesn't have hypertension, 1 if the patient has hypertension.\n",
        "- **Heart Disease:** 0 if the patient doesn't have any heart diseases, 1 if the patient has a heart disease.\n",
        "- **ever-married:** \"No\" or \"Yes\".\n",
        "- **worktype:** Type of work(\"children\", \"Govtjob\", \"Neverworked\", \"Private\" or \"Self-employed\").\n",
        "- **Residencetype:** \"Rural\" or \"Urban\" residence.\n",
        "- **avgglucoselevel:** average glucose level in blood.\n",
        "- **bmi:** body mass index.\n",
        "- **smoking_status:**  \"formerly smoked\", \"never smoked\", \"smokes\" or \"Unknown\"*.\n",
        "- **stroke:** 1 if the patient had a stroke or 0 if not\n",
        "\n",
        "**Dataset Source: https://www.kaggle.com/datasets/jillanisofttech/brain-stroke-dataset?datasetId=2387714**"
      ]
    },
    {
      "cell_type": "markdown",
      "id": "ef912046",
      "metadata": {
        "id": "ef912046"
      },
      "source": [
        "### 1. Import required Libraries and read the dataset."
      ]
    },
    {
      "cell_type": "code",
      "execution_count": null,
      "id": "44926193",
      "metadata": {
        "id": "44926193"
      },
      "outputs": [],
      "source": [
        "import pandas as pd\n",
        "import numpy as np\n",
        "import seaborn as sns\n",
        "import matplotlib.pyplot as plt   \n",
        "%matplotlib inline\n",
        "import warnings\n",
        "warnings.filterwarnings('ignore')\n",
        "\n",
        "# splitting, scaling, and encoding\n",
        "from sklearn.model_selection import train_test_split\n",
        "from sklearn.preprocessing import StandardScaler\n",
        "\n",
        "# evaluation metrics\n",
        "from sklearn import metrics\n",
        "from sklearn.metrics import recall_score\n",
        "\n",
        "# Models\n",
        "from sklearn.ensemble import RandomForestClassifier\n",
        "from sklearn.tree import DecisionTreeClassifier\n",
        "\n",
        "# Package for handling imbalance data\n",
        "#!pip install imblear\n",
        "from imblearn.over_sampling import SMOTE\n",
        "from imblearn.under_sampling import RandomUnderSampler\n",
        "\n",
        "# Pipeline and transformer\n",
        "from sklearn.pipeline import Pipeline\n",
        "from sklearn.compose import ColumnTransformer\n",
        "\n",
        "#!pip install mlxtend\n",
        "import joblib\n",
        "import sys\n",
        "sys.modules['sklearn.externals.joblib'] = joblib\n",
        "from mlxtend.feature_selection import SequentialFeatureSelector as sfs\n",
        "from mlxtend.plotting import plot_sequential_feature_selection as plot_sfs\n",
        "\n",
        "\n",
        "# Hyperparameter tuning\n",
        "from sklearn.model_selection import RandomizedSearchCV\n",
        "from sklearn.model_selection import GridSearchCV\n",
        "\n",
        "# To view all the columns\n",
        "pd.set_option('display.max_columns', None)"
      ]
    },
    {
      "cell_type": "code",
      "execution_count": null,
      "id": "3329fc5b",
      "metadata": {
        "id": "3329fc5b"
      },
      "outputs": [],
      "source": [
        "df = pd.read_csv('brain_stroke.csv')"
      ]
    },
    {
      "cell_type": "markdown",
      "id": "718a1cb3",
      "metadata": {
        "id": "718a1cb3"
      },
      "source": [
        "### 2. Check the first few samples, shape, info of the data and try to familiarize yourself with different features"
      ]
    },
    {
      "cell_type": "code",
      "execution_count": null,
      "id": "6f9bd502",
      "metadata": {
        "id": "6f9bd502",
        "outputId": "fbeb1b63-46c7-45ce-d4b3-7aa2deff4db1",
        "colab": {
          "base_uri": "https://localhost:8080/",
          "height": 206
        }
      },
      "outputs": [
        {
          "output_type": "execute_result",
          "data": {
            "text/plain": [
              "   gender   age  hypertension  heart_disease ever_married      work_type  \\\n",
              "0    Male  67.0             0              1          Yes        Private   \n",
              "1    Male  80.0             0              1          Yes        Private   \n",
              "2  Female  49.0             0              0          Yes        Private   \n",
              "3  Female  79.0             1              0          Yes  Self-employed   \n",
              "4    Male  81.0             0              0          Yes        Private   \n",
              "\n",
              "  Residence_type  avg_glucose_level   bmi   smoking_status  stroke  \n",
              "0          Urban             228.69  36.6  formerly smoked       1  \n",
              "1          Rural             105.92  32.5     never smoked       1  \n",
              "2          Urban             171.23  34.4           smokes       1  \n",
              "3          Rural             174.12  24.0     never smoked       1  \n",
              "4          Urban             186.21  29.0  formerly smoked       1  "
            ],
            "text/html": [
              "\n",
              "  <div id=\"df-511f67f3-dc34-4886-9e80-0cf8789d5787\">\n",
              "    <div class=\"colab-df-container\">\n",
              "      <div>\n",
              "<style scoped>\n",
              "    .dataframe tbody tr th:only-of-type {\n",
              "        vertical-align: middle;\n",
              "    }\n",
              "\n",
              "    .dataframe tbody tr th {\n",
              "        vertical-align: top;\n",
              "    }\n",
              "\n",
              "    .dataframe thead th {\n",
              "        text-align: right;\n",
              "    }\n",
              "</style>\n",
              "<table border=\"1\" class=\"dataframe\">\n",
              "  <thead>\n",
              "    <tr style=\"text-align: right;\">\n",
              "      <th></th>\n",
              "      <th>gender</th>\n",
              "      <th>age</th>\n",
              "      <th>hypertension</th>\n",
              "      <th>heart_disease</th>\n",
              "      <th>ever_married</th>\n",
              "      <th>work_type</th>\n",
              "      <th>Residence_type</th>\n",
              "      <th>avg_glucose_level</th>\n",
              "      <th>bmi</th>\n",
              "      <th>smoking_status</th>\n",
              "      <th>stroke</th>\n",
              "    </tr>\n",
              "  </thead>\n",
              "  <tbody>\n",
              "    <tr>\n",
              "      <th>0</th>\n",
              "      <td>Male</td>\n",
              "      <td>67.0</td>\n",
              "      <td>0</td>\n",
              "      <td>1</td>\n",
              "      <td>Yes</td>\n",
              "      <td>Private</td>\n",
              "      <td>Urban</td>\n",
              "      <td>228.69</td>\n",
              "      <td>36.6</td>\n",
              "      <td>formerly smoked</td>\n",
              "      <td>1</td>\n",
              "    </tr>\n",
              "    <tr>\n",
              "      <th>1</th>\n",
              "      <td>Male</td>\n",
              "      <td>80.0</td>\n",
              "      <td>0</td>\n",
              "      <td>1</td>\n",
              "      <td>Yes</td>\n",
              "      <td>Private</td>\n",
              "      <td>Rural</td>\n",
              "      <td>105.92</td>\n",
              "      <td>32.5</td>\n",
              "      <td>never smoked</td>\n",
              "      <td>1</td>\n",
              "    </tr>\n",
              "    <tr>\n",
              "      <th>2</th>\n",
              "      <td>Female</td>\n",
              "      <td>49.0</td>\n",
              "      <td>0</td>\n",
              "      <td>0</td>\n",
              "      <td>Yes</td>\n",
              "      <td>Private</td>\n",
              "      <td>Urban</td>\n",
              "      <td>171.23</td>\n",
              "      <td>34.4</td>\n",
              "      <td>smokes</td>\n",
              "      <td>1</td>\n",
              "    </tr>\n",
              "    <tr>\n",
              "      <th>3</th>\n",
              "      <td>Female</td>\n",
              "      <td>79.0</td>\n",
              "      <td>1</td>\n",
              "      <td>0</td>\n",
              "      <td>Yes</td>\n",
              "      <td>Self-employed</td>\n",
              "      <td>Rural</td>\n",
              "      <td>174.12</td>\n",
              "      <td>24.0</td>\n",
              "      <td>never smoked</td>\n",
              "      <td>1</td>\n",
              "    </tr>\n",
              "    <tr>\n",
              "      <th>4</th>\n",
              "      <td>Male</td>\n",
              "      <td>81.0</td>\n",
              "      <td>0</td>\n",
              "      <td>0</td>\n",
              "      <td>Yes</td>\n",
              "      <td>Private</td>\n",
              "      <td>Urban</td>\n",
              "      <td>186.21</td>\n",
              "      <td>29.0</td>\n",
              "      <td>formerly smoked</td>\n",
              "      <td>1</td>\n",
              "    </tr>\n",
              "  </tbody>\n",
              "</table>\n",
              "</div>\n",
              "      <button class=\"colab-df-convert\" onclick=\"convertToInteractive('df-511f67f3-dc34-4886-9e80-0cf8789d5787')\"\n",
              "              title=\"Convert this dataframe to an interactive table.\"\n",
              "              style=\"display:none;\">\n",
              "        \n",
              "  <svg xmlns=\"http://www.w3.org/2000/svg\" height=\"24px\"viewBox=\"0 0 24 24\"\n",
              "       width=\"24px\">\n",
              "    <path d=\"M0 0h24v24H0V0z\" fill=\"none\"/>\n",
              "    <path d=\"M18.56 5.44l.94 2.06.94-2.06 2.06-.94-2.06-.94-.94-2.06-.94 2.06-2.06.94zm-11 1L8.5 8.5l.94-2.06 2.06-.94-2.06-.94L8.5 2.5l-.94 2.06-2.06.94zm10 10l.94 2.06.94-2.06 2.06-.94-2.06-.94-.94-2.06-.94 2.06-2.06.94z\"/><path d=\"M17.41 7.96l-1.37-1.37c-.4-.4-.92-.59-1.43-.59-.52 0-1.04.2-1.43.59L10.3 9.45l-7.72 7.72c-.78.78-.78 2.05 0 2.83L4 21.41c.39.39.9.59 1.41.59.51 0 1.02-.2 1.41-.59l7.78-7.78 2.81-2.81c.8-.78.8-2.07 0-2.86zM5.41 20L4 18.59l7.72-7.72 1.47 1.35L5.41 20z\"/>\n",
              "  </svg>\n",
              "      </button>\n",
              "      \n",
              "  <style>\n",
              "    .colab-df-container {\n",
              "      display:flex;\n",
              "      flex-wrap:wrap;\n",
              "      gap: 12px;\n",
              "    }\n",
              "\n",
              "    .colab-df-convert {\n",
              "      background-color: #E8F0FE;\n",
              "      border: none;\n",
              "      border-radius: 50%;\n",
              "      cursor: pointer;\n",
              "      display: none;\n",
              "      fill: #1967D2;\n",
              "      height: 32px;\n",
              "      padding: 0 0 0 0;\n",
              "      width: 32px;\n",
              "    }\n",
              "\n",
              "    .colab-df-convert:hover {\n",
              "      background-color: #E2EBFA;\n",
              "      box-shadow: 0px 1px 2px rgba(60, 64, 67, 0.3), 0px 1px 3px 1px rgba(60, 64, 67, 0.15);\n",
              "      fill: #174EA6;\n",
              "    }\n",
              "\n",
              "    [theme=dark] .colab-df-convert {\n",
              "      background-color: #3B4455;\n",
              "      fill: #D2E3FC;\n",
              "    }\n",
              "\n",
              "    [theme=dark] .colab-df-convert:hover {\n",
              "      background-color: #434B5C;\n",
              "      box-shadow: 0px 1px 3px 1px rgba(0, 0, 0, 0.15);\n",
              "      filter: drop-shadow(0px 1px 2px rgba(0, 0, 0, 0.3));\n",
              "      fill: #FFFFFF;\n",
              "    }\n",
              "  </style>\n",
              "\n",
              "      <script>\n",
              "        const buttonEl =\n",
              "          document.querySelector('#df-511f67f3-dc34-4886-9e80-0cf8789d5787 button.colab-df-convert');\n",
              "        buttonEl.style.display =\n",
              "          google.colab.kernel.accessAllowed ? 'block' : 'none';\n",
              "\n",
              "        async function convertToInteractive(key) {\n",
              "          const element = document.querySelector('#df-511f67f3-dc34-4886-9e80-0cf8789d5787');\n",
              "          const dataTable =\n",
              "            await google.colab.kernel.invokeFunction('convertToInteractive',\n",
              "                                                     [key], {});\n",
              "          if (!dataTable) return;\n",
              "\n",
              "          const docLinkHtml = 'Like what you see? Visit the ' +\n",
              "            '<a target=\"_blank\" href=https://colab.research.google.com/notebooks/data_table.ipynb>data table notebook</a>'\n",
              "            + ' to learn more about interactive tables.';\n",
              "          element.innerHTML = '';\n",
              "          dataTable['output_type'] = 'display_data';\n",
              "          await google.colab.output.renderOutput(dataTable, element);\n",
              "          const docLink = document.createElement('div');\n",
              "          docLink.innerHTML = docLinkHtml;\n",
              "          element.appendChild(docLink);\n",
              "        }\n",
              "      </script>\n",
              "    </div>\n",
              "  </div>\n",
              "  "
            ]
          },
          "metadata": {},
          "execution_count": 4
        }
      ],
      "source": [
        "## lets check first few samples\n",
        "df.head()"
      ]
    },
    {
      "cell_type": "code",
      "execution_count": null,
      "id": "4972ee2c",
      "metadata": {
        "id": "4972ee2c",
        "outputId": "2ad34448-ecaa-4856-fa17-c1b8b5b1a110",
        "colab": {
          "base_uri": "https://localhost:8080/"
        }
      },
      "outputs": [
        {
          "output_type": "execute_result",
          "data": {
            "text/plain": [
              "(4981, 11)"
            ]
          },
          "metadata": {},
          "execution_count": 5
        }
      ],
      "source": [
        "## Lets check shape of the dataset\n",
        "df.shape"
      ]
    },
    {
      "cell_type": "code",
      "execution_count": null,
      "id": "216a8d6b",
      "metadata": {
        "id": "216a8d6b",
        "outputId": "d6e2860a-d387-4f68-cdb1-ac8da8885900",
        "colab": {
          "base_uri": "https://localhost:8080/"
        }
      },
      "outputs": [
        {
          "output_type": "stream",
          "name": "stdout",
          "text": [
            "<class 'pandas.core.frame.DataFrame'>\n",
            "RangeIndex: 4981 entries, 0 to 4980\n",
            "Data columns (total 11 columns):\n",
            " #   Column             Non-Null Count  Dtype  \n",
            "---  ------             --------------  -----  \n",
            " 0   gender             4981 non-null   object \n",
            " 1   age                4981 non-null   float64\n",
            " 2   hypertension       4981 non-null   int64  \n",
            " 3   heart_disease      4981 non-null   int64  \n",
            " 4   ever_married       4981 non-null   object \n",
            " 5   work_type          4981 non-null   object \n",
            " 6   Residence_type     4981 non-null   object \n",
            " 7   avg_glucose_level  4981 non-null   float64\n",
            " 8   bmi                4981 non-null   float64\n",
            " 9   smoking_status     4981 non-null   object \n",
            " 10  stroke             4981 non-null   int64  \n",
            "dtypes: float64(3), int64(3), object(5)\n",
            "memory usage: 428.2+ KB\n"
          ]
        }
      ],
      "source": [
        "## Lets check basic information of the dataset.\n",
        "df.info()"
      ]
    },
    {
      "cell_type": "markdown",
      "id": "80568faf",
      "metadata": {
        "id": "80568faf"
      },
      "source": [
        "- We have around 5K instances and 11 features.\n",
        "- There seems to be no missing values in the dataset.\n",
        "- We have a mix of categorical data as well as numerical data."
      ]
    },
    {
      "cell_type": "markdown",
      "id": "4af0e5f6",
      "metadata": {
        "id": "4af0e5f6"
      },
      "source": [
        "## Data Cleansing and Exploratory data analysis."
      ]
    },
    {
      "cell_type": "markdown",
      "id": "ca3d19cb",
      "metadata": {
        "id": "ca3d19cb"
      },
      "source": [
        "### 3. Check if there are any duplicate records in the dataset? if any drop them, and check the percentage of missing values, if any? treat them with appropriate methods."
      ]
    },
    {
      "cell_type": "code",
      "execution_count": null,
      "id": "8c361c8c",
      "metadata": {
        "id": "8c361c8c",
        "outputId": "1cf33565-0dda-4423-9d91-245db43376f5",
        "colab": {
          "base_uri": "https://localhost:8080/"
        }
      },
      "outputs": [
        {
          "output_type": "execute_result",
          "data": {
            "text/plain": [
              "0"
            ]
          },
          "metadata": {},
          "execution_count": 7
        }
      ],
      "source": [
        "## let us check if there are any duplicated entries\n",
        "len(df[df.duplicated()])"
      ]
    },
    {
      "cell_type": "markdown",
      "id": "30f1e9b7",
      "metadata": {
        "id": "30f1e9b7"
      },
      "source": [
        "- There are no duplicate records in the dataset."
      ]
    },
    {
      "cell_type": "code",
      "execution_count": null,
      "id": "f778ce94",
      "metadata": {
        "id": "f778ce94",
        "outputId": "29f7feab-8ecf-4afe-fe0c-61192b860efd",
        "colab": {
          "base_uri": "https://localhost:8080/"
        }
      },
      "outputs": [
        {
          "output_type": "execute_result",
          "data": {
            "text/plain": [
              "gender               0.0\n",
              "age                  0.0\n",
              "hypertension         0.0\n",
              "heart_disease        0.0\n",
              "ever_married         0.0\n",
              "work_type            0.0\n",
              "Residence_type       0.0\n",
              "avg_glucose_level    0.0\n",
              "bmi                  0.0\n",
              "smoking_status       0.0\n",
              "stroke               0.0\n",
              "dtype: float64"
            ]
          },
          "metadata": {},
          "execution_count": 8
        }
      ],
      "source": [
        "## Let us check for the percentage of missing values.\n",
        "df.isnull().sum()/len(df)*100"
      ]
    },
    {
      "cell_type": "markdown",
      "id": "ea65c0b4",
      "metadata": {
        "id": "ea65c0b4"
      },
      "source": [
        "### 4. Check summary statistics of the dataset, and write your key observations."
      ]
    },
    {
      "cell_type": "code",
      "execution_count": null,
      "id": "db4e17cf",
      "metadata": {
        "id": "db4e17cf",
        "outputId": "1d3ee08e-f52c-4ef3-9dd7-0a023ed81c08",
        "colab": {
          "base_uri": "https://localhost:8080/",
          "height": 300
        }
      },
      "outputs": [
        {
          "output_type": "execute_result",
          "data": {
            "text/plain": [
              "               age  hypertension  heart_disease  avg_glucose_level  \\\n",
              "count  4981.000000   4981.000000    4981.000000        4981.000000   \n",
              "mean     43.419859      0.096165       0.055210         105.943562   \n",
              "std      22.662755      0.294848       0.228412          45.075373   \n",
              "min       0.080000      0.000000       0.000000          55.120000   \n",
              "25%      25.000000      0.000000       0.000000          77.230000   \n",
              "50%      45.000000      0.000000       0.000000          91.850000   \n",
              "75%      61.000000      0.000000       0.000000         113.860000   \n",
              "max      82.000000      1.000000       1.000000         271.740000   \n",
              "\n",
              "               bmi       stroke  \n",
              "count  4981.000000  4981.000000  \n",
              "mean     28.498173     0.049789  \n",
              "std       6.790464     0.217531  \n",
              "min      14.000000     0.000000  \n",
              "25%      23.700000     0.000000  \n",
              "50%      28.100000     0.000000  \n",
              "75%      32.600000     0.000000  \n",
              "max      48.900000     1.000000  "
            ],
            "text/html": [
              "\n",
              "  <div id=\"df-9a08d1ee-591b-4d78-80f8-6dfeec937f4c\">\n",
              "    <div class=\"colab-df-container\">\n",
              "      <div>\n",
              "<style scoped>\n",
              "    .dataframe tbody tr th:only-of-type {\n",
              "        vertical-align: middle;\n",
              "    }\n",
              "\n",
              "    .dataframe tbody tr th {\n",
              "        vertical-align: top;\n",
              "    }\n",
              "\n",
              "    .dataframe thead th {\n",
              "        text-align: right;\n",
              "    }\n",
              "</style>\n",
              "<table border=\"1\" class=\"dataframe\">\n",
              "  <thead>\n",
              "    <tr style=\"text-align: right;\">\n",
              "      <th></th>\n",
              "      <th>age</th>\n",
              "      <th>hypertension</th>\n",
              "      <th>heart_disease</th>\n",
              "      <th>avg_glucose_level</th>\n",
              "      <th>bmi</th>\n",
              "      <th>stroke</th>\n",
              "    </tr>\n",
              "  </thead>\n",
              "  <tbody>\n",
              "    <tr>\n",
              "      <th>count</th>\n",
              "      <td>4981.000000</td>\n",
              "      <td>4981.000000</td>\n",
              "      <td>4981.000000</td>\n",
              "      <td>4981.000000</td>\n",
              "      <td>4981.000000</td>\n",
              "      <td>4981.000000</td>\n",
              "    </tr>\n",
              "    <tr>\n",
              "      <th>mean</th>\n",
              "      <td>43.419859</td>\n",
              "      <td>0.096165</td>\n",
              "      <td>0.055210</td>\n",
              "      <td>105.943562</td>\n",
              "      <td>28.498173</td>\n",
              "      <td>0.049789</td>\n",
              "    </tr>\n",
              "    <tr>\n",
              "      <th>std</th>\n",
              "      <td>22.662755</td>\n",
              "      <td>0.294848</td>\n",
              "      <td>0.228412</td>\n",
              "      <td>45.075373</td>\n",
              "      <td>6.790464</td>\n",
              "      <td>0.217531</td>\n",
              "    </tr>\n",
              "    <tr>\n",
              "      <th>min</th>\n",
              "      <td>0.080000</td>\n",
              "      <td>0.000000</td>\n",
              "      <td>0.000000</td>\n",
              "      <td>55.120000</td>\n",
              "      <td>14.000000</td>\n",
              "      <td>0.000000</td>\n",
              "    </tr>\n",
              "    <tr>\n",
              "      <th>25%</th>\n",
              "      <td>25.000000</td>\n",
              "      <td>0.000000</td>\n",
              "      <td>0.000000</td>\n",
              "      <td>77.230000</td>\n",
              "      <td>23.700000</td>\n",
              "      <td>0.000000</td>\n",
              "    </tr>\n",
              "    <tr>\n",
              "      <th>50%</th>\n",
              "      <td>45.000000</td>\n",
              "      <td>0.000000</td>\n",
              "      <td>0.000000</td>\n",
              "      <td>91.850000</td>\n",
              "      <td>28.100000</td>\n",
              "      <td>0.000000</td>\n",
              "    </tr>\n",
              "    <tr>\n",
              "      <th>75%</th>\n",
              "      <td>61.000000</td>\n",
              "      <td>0.000000</td>\n",
              "      <td>0.000000</td>\n",
              "      <td>113.860000</td>\n",
              "      <td>32.600000</td>\n",
              "      <td>0.000000</td>\n",
              "    </tr>\n",
              "    <tr>\n",
              "      <th>max</th>\n",
              "      <td>82.000000</td>\n",
              "      <td>1.000000</td>\n",
              "      <td>1.000000</td>\n",
              "      <td>271.740000</td>\n",
              "      <td>48.900000</td>\n",
              "      <td>1.000000</td>\n",
              "    </tr>\n",
              "  </tbody>\n",
              "</table>\n",
              "</div>\n",
              "      <button class=\"colab-df-convert\" onclick=\"convertToInteractive('df-9a08d1ee-591b-4d78-80f8-6dfeec937f4c')\"\n",
              "              title=\"Convert this dataframe to an interactive table.\"\n",
              "              style=\"display:none;\">\n",
              "        \n",
              "  <svg xmlns=\"http://www.w3.org/2000/svg\" height=\"24px\"viewBox=\"0 0 24 24\"\n",
              "       width=\"24px\">\n",
              "    <path d=\"M0 0h24v24H0V0z\" fill=\"none\"/>\n",
              "    <path d=\"M18.56 5.44l.94 2.06.94-2.06 2.06-.94-2.06-.94-.94-2.06-.94 2.06-2.06.94zm-11 1L8.5 8.5l.94-2.06 2.06-.94-2.06-.94L8.5 2.5l-.94 2.06-2.06.94zm10 10l.94 2.06.94-2.06 2.06-.94-2.06-.94-.94-2.06-.94 2.06-2.06.94z\"/><path d=\"M17.41 7.96l-1.37-1.37c-.4-.4-.92-.59-1.43-.59-.52 0-1.04.2-1.43.59L10.3 9.45l-7.72 7.72c-.78.78-.78 2.05 0 2.83L4 21.41c.39.39.9.59 1.41.59.51 0 1.02-.2 1.41-.59l7.78-7.78 2.81-2.81c.8-.78.8-2.07 0-2.86zM5.41 20L4 18.59l7.72-7.72 1.47 1.35L5.41 20z\"/>\n",
              "  </svg>\n",
              "      </button>\n",
              "      \n",
              "  <style>\n",
              "    .colab-df-container {\n",
              "      display:flex;\n",
              "      flex-wrap:wrap;\n",
              "      gap: 12px;\n",
              "    }\n",
              "\n",
              "    .colab-df-convert {\n",
              "      background-color: #E8F0FE;\n",
              "      border: none;\n",
              "      border-radius: 50%;\n",
              "      cursor: pointer;\n",
              "      display: none;\n",
              "      fill: #1967D2;\n",
              "      height: 32px;\n",
              "      padding: 0 0 0 0;\n",
              "      width: 32px;\n",
              "    }\n",
              "\n",
              "    .colab-df-convert:hover {\n",
              "      background-color: #E2EBFA;\n",
              "      box-shadow: 0px 1px 2px rgba(60, 64, 67, 0.3), 0px 1px 3px 1px rgba(60, 64, 67, 0.15);\n",
              "      fill: #174EA6;\n",
              "    }\n",
              "\n",
              "    [theme=dark] .colab-df-convert {\n",
              "      background-color: #3B4455;\n",
              "      fill: #D2E3FC;\n",
              "    }\n",
              "\n",
              "    [theme=dark] .colab-df-convert:hover {\n",
              "      background-color: #434B5C;\n",
              "      box-shadow: 0px 1px 3px 1px rgba(0, 0, 0, 0.15);\n",
              "      filter: drop-shadow(0px 1px 2px rgba(0, 0, 0, 0.3));\n",
              "      fill: #FFFFFF;\n",
              "    }\n",
              "  </style>\n",
              "\n",
              "      <script>\n",
              "        const buttonEl =\n",
              "          document.querySelector('#df-9a08d1ee-591b-4d78-80f8-6dfeec937f4c button.colab-df-convert');\n",
              "        buttonEl.style.display =\n",
              "          google.colab.kernel.accessAllowed ? 'block' : 'none';\n",
              "\n",
              "        async function convertToInteractive(key) {\n",
              "          const element = document.querySelector('#df-9a08d1ee-591b-4d78-80f8-6dfeec937f4c');\n",
              "          const dataTable =\n",
              "            await google.colab.kernel.invokeFunction('convertToInteractive',\n",
              "                                                     [key], {});\n",
              "          if (!dataTable) return;\n",
              "\n",
              "          const docLinkHtml = 'Like what you see? Visit the ' +\n",
              "            '<a target=\"_blank\" href=https://colab.research.google.com/notebooks/data_table.ipynb>data table notebook</a>'\n",
              "            + ' to learn more about interactive tables.';\n",
              "          element.innerHTML = '';\n",
              "          dataTable['output_type'] = 'display_data';\n",
              "          await google.colab.output.renderOutput(dataTable, element);\n",
              "          const docLink = document.createElement('div');\n",
              "          docLink.innerHTML = docLinkHtml;\n",
              "          element.appendChild(docLink);\n",
              "        }\n",
              "      </script>\n",
              "    </div>\n",
              "  </div>\n",
              "  "
            ]
          },
          "metadata": {},
          "execution_count": 9
        }
      ],
      "source": [
        "df.describe() ## summay for numerical columns"
      ]
    },
    {
      "cell_type": "markdown",
      "id": "7f243c92",
      "metadata": {
        "id": "7f243c92"
      },
      "source": [
        "- The maximum applied loan amount is 35000 dollars and minimum is 1014 dollars.\n",
        "- The average term of loan is 58 months.\n",
        "- The maximum Interest rate of the loan is 27%.\n",
        "- The average Total received interest is around 2000 dollars.\n",
        "- The maximum Total received late fee charges is around 42 dollars."
      ]
    },
    {
      "cell_type": "code",
      "execution_count": null,
      "id": "bc454d6f",
      "metadata": {
        "id": "bc454d6f",
        "outputId": "114985ea-e705-4f49-fe4b-4ed026f04639",
        "colab": {
          "base_uri": "https://localhost:8080/",
          "height": 175
        }
      },
      "outputs": [
        {
          "output_type": "execute_result",
          "data": {
            "text/plain": [
              "        gender ever_married work_type Residence_type smoking_status\n",
              "count     4981         4981      4981           4981           4981\n",
              "unique       2            2         4              2              4\n",
              "top     Female          Yes   Private          Urban   never smoked\n",
              "freq      2907         3280      2860           2532           1838"
            ],
            "text/html": [
              "\n",
              "  <div id=\"df-1cdead72-0e12-43e9-a1a2-ad4ef2adc1da\">\n",
              "    <div class=\"colab-df-container\">\n",
              "      <div>\n",
              "<style scoped>\n",
              "    .dataframe tbody tr th:only-of-type {\n",
              "        vertical-align: middle;\n",
              "    }\n",
              "\n",
              "    .dataframe tbody tr th {\n",
              "        vertical-align: top;\n",
              "    }\n",
              "\n",
              "    .dataframe thead th {\n",
              "        text-align: right;\n",
              "    }\n",
              "</style>\n",
              "<table border=\"1\" class=\"dataframe\">\n",
              "  <thead>\n",
              "    <tr style=\"text-align: right;\">\n",
              "      <th></th>\n",
              "      <th>gender</th>\n",
              "      <th>ever_married</th>\n",
              "      <th>work_type</th>\n",
              "      <th>Residence_type</th>\n",
              "      <th>smoking_status</th>\n",
              "    </tr>\n",
              "  </thead>\n",
              "  <tbody>\n",
              "    <tr>\n",
              "      <th>count</th>\n",
              "      <td>4981</td>\n",
              "      <td>4981</td>\n",
              "      <td>4981</td>\n",
              "      <td>4981</td>\n",
              "      <td>4981</td>\n",
              "    </tr>\n",
              "    <tr>\n",
              "      <th>unique</th>\n",
              "      <td>2</td>\n",
              "      <td>2</td>\n",
              "      <td>4</td>\n",
              "      <td>2</td>\n",
              "      <td>4</td>\n",
              "    </tr>\n",
              "    <tr>\n",
              "      <th>top</th>\n",
              "      <td>Female</td>\n",
              "      <td>Yes</td>\n",
              "      <td>Private</td>\n",
              "      <td>Urban</td>\n",
              "      <td>never smoked</td>\n",
              "    </tr>\n",
              "    <tr>\n",
              "      <th>freq</th>\n",
              "      <td>2907</td>\n",
              "      <td>3280</td>\n",
              "      <td>2860</td>\n",
              "      <td>2532</td>\n",
              "      <td>1838</td>\n",
              "    </tr>\n",
              "  </tbody>\n",
              "</table>\n",
              "</div>\n",
              "      <button class=\"colab-df-convert\" onclick=\"convertToInteractive('df-1cdead72-0e12-43e9-a1a2-ad4ef2adc1da')\"\n",
              "              title=\"Convert this dataframe to an interactive table.\"\n",
              "              style=\"display:none;\">\n",
              "        \n",
              "  <svg xmlns=\"http://www.w3.org/2000/svg\" height=\"24px\"viewBox=\"0 0 24 24\"\n",
              "       width=\"24px\">\n",
              "    <path d=\"M0 0h24v24H0V0z\" fill=\"none\"/>\n",
              "    <path d=\"M18.56 5.44l.94 2.06.94-2.06 2.06-.94-2.06-.94-.94-2.06-.94 2.06-2.06.94zm-11 1L8.5 8.5l.94-2.06 2.06-.94-2.06-.94L8.5 2.5l-.94 2.06-2.06.94zm10 10l.94 2.06.94-2.06 2.06-.94-2.06-.94-.94-2.06-.94 2.06-2.06.94z\"/><path d=\"M17.41 7.96l-1.37-1.37c-.4-.4-.92-.59-1.43-.59-.52 0-1.04.2-1.43.59L10.3 9.45l-7.72 7.72c-.78.78-.78 2.05 0 2.83L4 21.41c.39.39.9.59 1.41.59.51 0 1.02-.2 1.41-.59l7.78-7.78 2.81-2.81c.8-.78.8-2.07 0-2.86zM5.41 20L4 18.59l7.72-7.72 1.47 1.35L5.41 20z\"/>\n",
              "  </svg>\n",
              "      </button>\n",
              "      \n",
              "  <style>\n",
              "    .colab-df-container {\n",
              "      display:flex;\n",
              "      flex-wrap:wrap;\n",
              "      gap: 12px;\n",
              "    }\n",
              "\n",
              "    .colab-df-convert {\n",
              "      background-color: #E8F0FE;\n",
              "      border: none;\n",
              "      border-radius: 50%;\n",
              "      cursor: pointer;\n",
              "      display: none;\n",
              "      fill: #1967D2;\n",
              "      height: 32px;\n",
              "      padding: 0 0 0 0;\n",
              "      width: 32px;\n",
              "    }\n",
              "\n",
              "    .colab-df-convert:hover {\n",
              "      background-color: #E2EBFA;\n",
              "      box-shadow: 0px 1px 2px rgba(60, 64, 67, 0.3), 0px 1px 3px 1px rgba(60, 64, 67, 0.15);\n",
              "      fill: #174EA6;\n",
              "    }\n",
              "\n",
              "    [theme=dark] .colab-df-convert {\n",
              "      background-color: #3B4455;\n",
              "      fill: #D2E3FC;\n",
              "    }\n",
              "\n",
              "    [theme=dark] .colab-df-convert:hover {\n",
              "      background-color: #434B5C;\n",
              "      box-shadow: 0px 1px 3px 1px rgba(0, 0, 0, 0.15);\n",
              "      filter: drop-shadow(0px 1px 2px rgba(0, 0, 0, 0.3));\n",
              "      fill: #FFFFFF;\n",
              "    }\n",
              "  </style>\n",
              "\n",
              "      <script>\n",
              "        const buttonEl =\n",
              "          document.querySelector('#df-1cdead72-0e12-43e9-a1a2-ad4ef2adc1da button.colab-df-convert');\n",
              "        buttonEl.style.display =\n",
              "          google.colab.kernel.accessAllowed ? 'block' : 'none';\n",
              "\n",
              "        async function convertToInteractive(key) {\n",
              "          const element = document.querySelector('#df-1cdead72-0e12-43e9-a1a2-ad4ef2adc1da');\n",
              "          const dataTable =\n",
              "            await google.colab.kernel.invokeFunction('convertToInteractive',\n",
              "                                                     [key], {});\n",
              "          if (!dataTable) return;\n",
              "\n",
              "          const docLinkHtml = 'Like what you see? Visit the ' +\n",
              "            '<a target=\"_blank\" href=https://colab.research.google.com/notebooks/data_table.ipynb>data table notebook</a>'\n",
              "            + ' to learn more about interactive tables.';\n",
              "          element.innerHTML = '';\n",
              "          dataTable['output_type'] = 'display_data';\n",
              "          await google.colab.output.renderOutput(dataTable, element);\n",
              "          const docLink = document.createElement('div');\n",
              "          docLink.innerHTML = docLinkHtml;\n",
              "          element.appendChild(docLink);\n",
              "        }\n",
              "      </script>\n",
              "    </div>\n",
              "  </div>\n",
              "  "
            ]
          },
          "metadata": {},
          "execution_count": 10
        }
      ],
      "source": [
        "df.describe(include='O') ## summary for categorical columns"
      ]
    },
    {
      "cell_type": "markdown",
      "id": "007d34bd",
      "metadata": {
        "id": "007d34bd"
      },
      "source": [
        "- Employment Duration, Verification Status features has 3 unique categories.\n",
        "- Initial List status, Application Type has 2 unique categories.\n",
        "- Batch Enrolled has 41, and Subgrade has 35, Loan Title has 109 unique categories. (need to drop, since there are many subcategories, also redundant for our analyis)"
      ]
    },
    {
      "cell_type": "markdown",
      "id": "7d72fd96",
      "metadata": {
        "id": "7d72fd96"
      },
      "source": [
        "### 5. Drop the columns which you think redundant for the analysis."
      ]
    },
    {
      "cell_type": "markdown",
      "source": [
        " As of now we don't see any redundant features in the dataset. Hence, no features would be dropped"
      ],
      "metadata": {
        "id": "BZ_f9YebEpdk"
      },
      "id": "BZ_f9YebEpdk"
    },
    {
      "cell_type": "markdown",
      "id": "acae40f5",
      "metadata": {
        "id": "acae40f5"
      },
      "source": [
        "### 6. Plot a pairplot to see how the features interact with one another"
      ]
    },
    {
      "cell_type": "code",
      "execution_count": null,
      "id": "38312c28",
      "metadata": {
        "id": "38312c28",
        "colab": {
          "base_uri": "https://localhost:8080/",
          "height": 1000
        },
        "outputId": "39fe1311-093e-45ad-e92b-82310242b33b"
      },
      "outputs": [
        {
          "output_type": "display_data",
          "data": {
            "text/plain": [
              "<Figure size 1080x1080 with 42 Axes>"
            ],
            "image/png": "[encoded data removed]"
          },
          "metadata": {
            "needs_background": "light"
          }
        }
      ],
      "source": [
        "## perform necessary univariate and multivariate analaysis.\n",
        "sns.pairplot(df)\n",
        "plt.show()"
      ]
    },
    {
      "cell_type": "markdown",
      "source": [
        "From the above pairplot we can observe that:\n",
        "- Most of the individuals whose age is in the range of 0 to 40 don't suffer from any heart diseases exceot in few cases.\n",
        "\n",
        "- Similarly individuals in the age group of 0 to 20 dont' suffer from Hypertension but the population in the remaining age groups are suffering from HyperTension.\n",
        "\n",
        "- As age increases the avgglucose level is increasing which is and few exceptional cases the values are very high at a very young age.\n",
        "\n",
        "- Again wrt age we see that most of the individuals aren't having the desired BMI index as per their age but more than it in more than 80% of the cases.\n",
        "\n",
        "- Glucose level of a person help in indicating whether or not the person would suffer from brain stroke.\n",
        "\n"
      ],
      "metadata": {
        "id": "evUrqxqzJ9-O"
      },
      "id": "evUrqxqzJ9-O"
    },
    {
      "cell_type": "code",
      "source": [
        "# To check the correlation \n",
        "df.corr()"
      ],
      "metadata": {
        "colab": {
          "base_uri": "https://localhost:8080/",
          "height": 237
        },
        "id": "E7apJZqUNoWr",
        "outputId": "f2846da5-5aaa-45ff-e44c-ffdd346b9c60"
      },
      "id": "E7apJZqUNoWr",
      "execution_count": null,
      "outputs": [
        {
          "output_type": "execute_result",
          "data": {
            "text/plain": [
              "                        age  hypertension  heart_disease  avg_glucose_level  \\\n",
              "age                1.000000      0.278120       0.264852           0.236763   \n",
              "hypertension       0.278120      1.000000       0.111974           0.170028   \n",
              "heart_disease      0.264852      0.111974       1.000000           0.166847   \n",
              "avg_glucose_level  0.236763      0.170028       0.166847           1.000000   \n",
              "bmi                0.373703      0.158762       0.060926           0.186348   \n",
              "stroke             0.246478      0.131965       0.134610           0.133227   \n",
              "\n",
              "                        bmi    stroke  \n",
              "age                0.373703  0.246478  \n",
              "hypertension       0.158762  0.131965  \n",
              "heart_disease      0.060926  0.134610  \n",
              "avg_glucose_level  0.186348  0.133227  \n",
              "bmi                1.000000  0.056926  \n",
              "stroke             0.056926  1.000000  "
            ],
            "text/html": [
              "\n",
              "  <div id=\"df-81e35bf6-66a6-4d19-8e54-8809aed23384\">\n",
              "    <div class=\"colab-df-container\">\n",
              "      <div>\n",
              "<style scoped>\n",
              "    .dataframe tbody tr th:only-of-type {\n",
              "        vertical-align: middle;\n",
              "    }\n",
              "\n",
              "    .dataframe tbody tr th {\n",
              "        vertical-align: top;\n",
              "    }\n",
              "\n",
              "    .dataframe thead th {\n",
              "        text-align: right;\n",
              "    }\n",
              "</style>\n",
              "<table border=\"1\" class=\"dataframe\">\n",
              "  <thead>\n",
              "    <tr style=\"text-align: right;\">\n",
              "      <th></th>\n",
              "      <th>age</th>\n",
              "      <th>hypertension</th>\n",
              "      <th>heart_disease</th>\n",
              "      <th>avg_glucose_level</th>\n",
              "      <th>bmi</th>\n",
              "      <th>stroke</th>\n",
              "    </tr>\n",
              "  </thead>\n",
              "  <tbody>\n",
              "    <tr>\n",
              "      <th>age</th>\n",
              "      <td>1.000000</td>\n",
              "      <td>0.278120</td>\n",
              "      <td>0.264852</td>\n",
              "      <td>0.236763</td>\n",
              "      <td>0.373703</td>\n",
              "      <td>0.246478</td>\n",
              "    </tr>\n",
              "    <tr>\n",
              "      <th>hypertension</th>\n",
              "      <td>0.278120</td>\n",
              "      <td>1.000000</td>\n",
              "      <td>0.111974</td>\n",
              "      <td>0.170028</td>\n",
              "      <td>0.158762</td>\n",
              "      <td>0.131965</td>\n",
              "    </tr>\n",
              "    <tr>\n",
              "      <th>heart_disease</th>\n",
              "      <td>0.264852</td>\n",
              "      <td>0.111974</td>\n",
              "      <td>1.000000</td>\n",
              "      <td>0.166847</td>\n",
              "      <td>0.060926</td>\n",
              "      <td>0.134610</td>\n",
              "    </tr>\n",
              "    <tr>\n",
              "      <th>avg_glucose_level</th>\n",
              "      <td>0.236763</td>\n",
              "      <td>0.170028</td>\n",
              "      <td>0.166847</td>\n",
              "      <td>1.000000</td>\n",
              "      <td>0.186348</td>\n",
              "      <td>0.133227</td>\n",
              "    </tr>\n",
              "    <tr>\n",
              "      <th>bmi</th>\n",
              "      <td>0.373703</td>\n",
              "      <td>0.158762</td>\n",
              "      <td>0.060926</td>\n",
              "      <td>0.186348</td>\n",
              "      <td>1.000000</td>\n",
              "      <td>0.056926</td>\n",
              "    </tr>\n",
              "    <tr>\n",
              "      <th>stroke</th>\n",
              "      <td>0.246478</td>\n",
              "      <td>0.131965</td>\n",
              "      <td>0.134610</td>\n",
              "      <td>0.133227</td>\n",
              "      <td>0.056926</td>\n",
              "      <td>1.000000</td>\n",
              "    </tr>\n",
              "  </tbody>\n",
              "</table>\n",
              "</div>\n",
              "      <button class=\"colab-df-convert\" onclick=\"convertToInteractive('df-81e35bf6-66a6-4d19-8e54-8809aed23384')\"\n",
              "              title=\"Convert this dataframe to an interactive table.\"\n",
              "              style=\"display:none;\">\n",
              "        \n",
              "  <svg xmlns=\"http://www.w3.org/2000/svg\" height=\"24px\"viewBox=\"0 0 24 24\"\n",
              "       width=\"24px\">\n",
              "    <path d=\"M0 0h24v24H0V0z\" fill=\"none\"/>\n",
              "    <path d=\"M18.56 5.44l.94 2.06.94-2.06 2.06-.94-2.06-.94-.94-2.06-.94 2.06-2.06.94zm-11 1L8.5 8.5l.94-2.06 2.06-.94-2.06-.94L8.5 2.5l-.94 2.06-2.06.94zm10 10l.94 2.06.94-2.06 2.06-.94-2.06-.94-.94-2.06-.94 2.06-2.06.94z\"/><path d=\"M17.41 7.96l-1.37-1.37c-.4-.4-.92-.59-1.43-.59-.52 0-1.04.2-1.43.59L10.3 9.45l-7.72 7.72c-.78.78-.78 2.05 0 2.83L4 21.41c.39.39.9.59 1.41.59.51 0 1.02-.2 1.41-.59l7.78-7.78 2.81-2.81c.8-.78.8-2.07 0-2.86zM5.41 20L4 18.59l7.72-7.72 1.47 1.35L5.41 20z\"/>\n",
              "  </svg>\n",
              "      </button>\n",
              "      \n",
              "  <style>\n",
              "    .colab-df-container {\n",
              "      display:flex;\n",
              "      flex-wrap:wrap;\n",
              "      gap: 12px;\n",
              "    }\n",
              "\n",
              "    .colab-df-convert {\n",
              "      background-color: #E8F0FE;\n",
              "      border: none;\n",
              "      border-radius: 50%;\n",
              "      cursor: pointer;\n",
              "      display: none;\n",
              "      fill: #1967D2;\n",
              "      height: 32px;\n",
              "      padding: 0 0 0 0;\n",
              "      width: 32px;\n",
              "    }\n",
              "\n",
              "    .colab-df-convert:hover {\n",
              "      background-color: #E2EBFA;\n",
              "      box-shadow: 0px 1px 2px rgba(60, 64, 67, 0.3), 0px 1px 3px 1px rgba(60, 64, 67, 0.15);\n",
              "      fill: #174EA6;\n",
              "    }\n",
              "\n",
              "    [theme=dark] .colab-df-convert {\n",
              "      background-color: #3B4455;\n",
              "      fill: #D2E3FC;\n",
              "    }\n",
              "\n",
              "    [theme=dark] .colab-df-convert:hover {\n",
              "      background-color: #434B5C;\n",
              "      box-shadow: 0px 1px 3px 1px rgba(0, 0, 0, 0.15);\n",
              "      filter: drop-shadow(0px 1px 2px rgba(0, 0, 0, 0.3));\n",
              "      fill: #FFFFFF;\n",
              "    }\n",
              "  </style>\n",
              "\n",
              "      <script>\n",
              "        const buttonEl =\n",
              "          document.querySelector('#df-81e35bf6-66a6-4d19-8e54-8809aed23384 button.colab-df-convert');\n",
              "        buttonEl.style.display =\n",
              "          google.colab.kernel.accessAllowed ? 'block' : 'none';\n",
              "\n",
              "        async function convertToInteractive(key) {\n",
              "          const element = document.querySelector('#df-81e35bf6-66a6-4d19-8e54-8809aed23384');\n",
              "          const dataTable =\n",
              "            await google.colab.kernel.invokeFunction('convertToInteractive',\n",
              "                                                     [key], {});\n",
              "          if (!dataTable) return;\n",
              "\n",
              "          const docLinkHtml = 'Like what you see? Visit the ' +\n",
              "            '<a target=\"_blank\" href=https://colab.research.google.com/notebooks/data_table.ipynb>data table notebook</a>'\n",
              "            + ' to learn more about interactive tables.';\n",
              "          element.innerHTML = '';\n",
              "          dataTable['output_type'] = 'display_data';\n",
              "          await google.colab.output.renderOutput(dataTable, element);\n",
              "          const docLink = document.createElement('div');\n",
              "          docLink.innerHTML = docLinkHtml;\n",
              "          element.appendChild(docLink);\n",
              "        }\n",
              "      </script>\n",
              "    </div>\n",
              "  </div>\n",
              "  "
            ]
          },
          "metadata": {},
          "execution_count": 12
        }
      ]
    },
    {
      "cell_type": "markdown",
      "source": [
        "- From the above correlation table we can see that age has a high correlation with all the other features in the dataset as compared to correlation of other individual features with the remaining features of the dataset.\n",
        "\n",
        "- The correlation between glucose level and hypertension is at 0.170028, similarly hypertension has correlation with bmi and the target variable stroke.\n",
        "\n",
        "- The heart disease is also fairly correlated with glucose level and in predicting stroke.\n",
        "\n",
        "- BMI has a very less correlation with heart_disease and stroke."
      ],
      "metadata": {
        "id": "nOAUxW-JSXpd"
      },
      "id": "nOAUxW-JSXpd"
    },
    {
      "cell_type": "markdown",
      "id": "93d78405",
      "metadata": {
        "id": "93d78405"
      },
      "source": [
        "### 7. Check the distribution of the target column 'stroke', and comment on the class distribution"
      ]
    },
    {
      "cell_type": "code",
      "source": [
        "df['stroke'].unique()"
      ],
      "metadata": {
        "colab": {
          "base_uri": "https://localhost:8080/"
        },
        "id": "o0nyjGZ5vRhh",
        "outputId": "4bc62400-3cfd-4230-f90d-bfed56055304"
      },
      "id": "o0nyjGZ5vRhh",
      "execution_count": null,
      "outputs": [
        {
          "output_type": "execute_result",
          "data": {
            "text/plain": [
              "array([1, 0])"
            ]
          },
          "metadata": {},
          "execution_count": 13
        }
      ]
    },
    {
      "cell_type": "code",
      "source": [
        "df['stroke'].value_counts()"
      ],
      "metadata": {
        "colab": {
          "base_uri": "https://localhost:8080/"
        },
        "id": "_S-S-DO9vlo7",
        "outputId": "273f6eea-2038-446f-d5d6-d460e1ae8286"
      },
      "id": "_S-S-DO9vlo7",
      "execution_count": null,
      "outputs": [
        {
          "output_type": "execute_result",
          "data": {
            "text/plain": [
              "0    4733\n",
              "1     248\n",
              "Name: stroke, dtype: int64"
            ]
          },
          "metadata": {},
          "execution_count": 14
        }
      ]
    },
    {
      "cell_type": "code",
      "execution_count": null,
      "id": "31dd7f4c",
      "metadata": {
        "id": "31dd7f4c",
        "outputId": "8bf45720-db14-44d5-9a27-49c4c79b595b",
        "colab": {
          "base_uri": "https://localhost:8080/",
          "height": 279
        }
      },
      "outputs": [
        {
          "output_type": "display_data",
          "data": {
            "text/plain": [
              "<Figure size 432x288 with 1 Axes>"
            ],
            "image/png": "[encoded data removed]"
          },
          "metadata": {
            "needs_background": "light"
          }
        }
      ],
      "source": [
        "sns.countplot(df['stroke'])\n",
        "plt.show()"
      ]
    },
    {
      "cell_type": "markdown",
      "id": "e5a08672",
      "metadata": {
        "id": "e5a08672"
      },
      "source": [
        "- The target class is highly imbalanced. \n",
        "- In this case the classifier will always predicts the most common class without performing any analysis of the features and it will have a high accuracy rate, where the accuray is not good metric in such cases.\n",
        "- In such cases we need to go for handling the imbalance dataset using oversampling or downsampling approaches."
      ]
    },
    {
      "cell_type": "markdown",
      "id": "f4b285c1",
      "metadata": {
        "id": "f4b285c1"
      },
      "source": [
        "## Data Preparation for the Model building"
      ]
    },
    {
      "cell_type": "markdown",
      "id": "5dcb977d",
      "metadata": {
        "id": "5dcb977d"
      },
      "source": [
        "### 8. Segregate the target and independent features."
      ]
    },
    {
      "cell_type": "code",
      "execution_count": null,
      "id": "4796fa2b",
      "metadata": {
        "id": "4796fa2b"
      },
      "outputs": [],
      "source": [
        "X = df.drop('stroke',axis=1)\n",
        "y = df['stroke']"
      ]
    },
    {
      "cell_type": "code",
      "source": [
        "X.head()"
      ],
      "metadata": {
        "colab": {
          "base_uri": "https://localhost:8080/",
          "height": 206
        },
        "id": "bWd_j4O8822q",
        "outputId": "ccee1536-19e6-49b7-be8c-dd10ed4c2302"
      },
      "id": "bWd_j4O8822q",
      "execution_count": null,
      "outputs": [
        {
          "output_type": "execute_result",
          "data": {
            "text/plain": [
              "   gender   age  hypertension  heart_disease ever_married      work_type  \\\n",
              "0    Male  67.0             0              1          Yes        Private   \n",
              "1    Male  80.0             0              1          Yes        Private   \n",
              "2  Female  49.0             0              0          Yes        Private   \n",
              "3  Female  79.0             1              0          Yes  Self-employed   \n",
              "4    Male  81.0             0              0          Yes        Private   \n",
              "\n",
              "  Residence_type  avg_glucose_level   bmi   smoking_status  \n",
              "0          Urban             228.69  36.6  formerly smoked  \n",
              "1          Rural             105.92  32.5     never smoked  \n",
              "2          Urban             171.23  34.4           smokes  \n",
              "3          Rural             174.12  24.0     never smoked  \n",
              "4          Urban             186.21  29.0  formerly smoked  "
            ],
            "text/html": [
              "\n",
              "  <div id=\"df-d866d107-3709-413b-ad25-13672b0de38f\">\n",
              "    <div class=\"colab-df-container\">\n",
              "      <div>\n",
              "<style scoped>\n",
              "    .dataframe tbody tr th:only-of-type {\n",
              "        vertical-align: middle;\n",
              "    }\n",
              "\n",
              "    .dataframe tbody tr th {\n",
              "        vertical-align: top;\n",
              "    }\n",
              "\n",
              "    .dataframe thead th {\n",
              "        text-align: right;\n",
              "    }\n",
              "</style>\n",
              "<table border=\"1\" class=\"dataframe\">\n",
              "  <thead>\n",
              "    <tr style=\"text-align: right;\">\n",
              "      <th></th>\n",
              "      <th>gender</th>\n",
              "      <th>age</th>\n",
              "      <th>hypertension</th>\n",
              "      <th>heart_disease</th>\n",
              "      <th>ever_married</th>\n",
              "      <th>work_type</th>\n",
              "      <th>Residence_type</th>\n",
              "      <th>avg_glucose_level</th>\n",
              "      <th>bmi</th>\n",
              "      <th>smoking_status</th>\n",
              "    </tr>\n",
              "  </thead>\n",
              "  <tbody>\n",
              "    <tr>\n",
              "      <th>0</th>\n",
              "      <td>Male</td>\n",
              "      <td>67.0</td>\n",
              "      <td>0</td>\n",
              "      <td>1</td>\n",
              "      <td>Yes</td>\n",
              "      <td>Private</td>\n",
              "      <td>Urban</td>\n",
              "      <td>228.69</td>\n",
              "      <td>36.6</td>\n",
              "      <td>formerly smoked</td>\n",
              "    </tr>\n",
              "    <tr>\n",
              "      <th>1</th>\n",
              "      <td>Male</td>\n",
              "      <td>80.0</td>\n",
              "      <td>0</td>\n",
              "      <td>1</td>\n",
              "      <td>Yes</td>\n",
              "      <td>Private</td>\n",
              "      <td>Rural</td>\n",
              "      <td>105.92</td>\n",
              "      <td>32.5</td>\n",
              "      <td>never smoked</td>\n",
              "    </tr>\n",
              "    <tr>\n",
              "      <th>2</th>\n",
              "      <td>Female</td>\n",
              "      <td>49.0</td>\n",
              "      <td>0</td>\n",
              "      <td>0</td>\n",
              "      <td>Yes</td>\n",
              "      <td>Private</td>\n",
              "      <td>Urban</td>\n",
              "      <td>171.23</td>\n",
              "      <td>34.4</td>\n",
              "      <td>smokes</td>\n",
              "    </tr>\n",
              "    <tr>\n",
              "      <th>3</th>\n",
              "      <td>Female</td>\n",
              "      <td>79.0</td>\n",
              "      <td>1</td>\n",
              "      <td>0</td>\n",
              "      <td>Yes</td>\n",
              "      <td>Self-employed</td>\n",
              "      <td>Rural</td>\n",
              "      <td>174.12</td>\n",
              "      <td>24.0</td>\n",
              "      <td>never smoked</td>\n",
              "    </tr>\n",
              "    <tr>\n",
              "      <th>4</th>\n",
              "      <td>Male</td>\n",
              "      <td>81.0</td>\n",
              "      <td>0</td>\n",
              "      <td>0</td>\n",
              "      <td>Yes</td>\n",
              "      <td>Private</td>\n",
              "      <td>Urban</td>\n",
              "      <td>186.21</td>\n",
              "      <td>29.0</td>\n",
              "      <td>formerly smoked</td>\n",
              "    </tr>\n",
              "  </tbody>\n",
              "</table>\n",
              "</div>\n",
              "      <button class=\"colab-df-convert\" onclick=\"convertToInteractive('df-d866d107-3709-413b-ad25-13672b0de38f')\"\n",
              "              title=\"Convert this dataframe to an interactive table.\"\n",
              "              style=\"display:none;\">\n",
              "        \n",
              "  <svg xmlns=\"http://www.w3.org/2000/svg\" height=\"24px\"viewBox=\"0 0 24 24\"\n",
              "       width=\"24px\">\n",
              "    <path d=\"M0 0h24v24H0V0z\" fill=\"none\"/>\n",
              "    <path d=\"M18.56 5.44l.94 2.06.94-2.06 2.06-.94-2.06-.94-.94-2.06-.94 2.06-2.06.94zm-11 1L8.5 8.5l.94-2.06 2.06-.94-2.06-.94L8.5 2.5l-.94 2.06-2.06.94zm10 10l.94 2.06.94-2.06 2.06-.94-2.06-.94-.94-2.06-.94 2.06-2.06.94z\"/><path d=\"M17.41 7.96l-1.37-1.37c-.4-.4-.92-.59-1.43-.59-.52 0-1.04.2-1.43.59L10.3 9.45l-7.72 7.72c-.78.78-.78 2.05 0 2.83L4 21.41c.39.39.9.59 1.41.59.51 0 1.02-.2 1.41-.59l7.78-7.78 2.81-2.81c.8-.78.8-2.07 0-2.86zM5.41 20L4 18.59l7.72-7.72 1.47 1.35L5.41 20z\"/>\n",
              "  </svg>\n",
              "      </button>\n",
              "      \n",
              "  <style>\n",
              "    .colab-df-container {\n",
              "      display:flex;\n",
              "      flex-wrap:wrap;\n",
              "      gap: 12px;\n",
              "    }\n",
              "\n",
              "    .colab-df-convert {\n",
              "      background-color: #E8F0FE;\n",
              "      border: none;\n",
              "      border-radius: 50%;\n",
              "      cursor: pointer;\n",
              "      display: none;\n",
              "      fill: #1967D2;\n",
              "      height: 32px;\n",
              "      padding: 0 0 0 0;\n",
              "      width: 32px;\n",
              "    }\n",
              "\n",
              "    .colab-df-convert:hover {\n",
              "      background-color: #E2EBFA;\n",
              "      box-shadow: 0px 1px 2px rgba(60, 64, 67, 0.3), 0px 1px 3px 1px rgba(60, 64, 67, 0.15);\n",
              "      fill: #174EA6;\n",
              "    }\n",
              "\n",
              "    [theme=dark] .colab-df-convert {\n",
              "      background-color: #3B4455;\n",
              "      fill: #D2E3FC;\n",
              "    }\n",
              "\n",
              "    [theme=dark] .colab-df-convert:hover {\n",
              "      background-color: #434B5C;\n",
              "      box-shadow: 0px 1px 3px 1px rgba(0, 0, 0, 0.15);\n",
              "      filter: drop-shadow(0px 1px 2px rgba(0, 0, 0, 0.3));\n",
              "      fill: #FFFFFF;\n",
              "    }\n",
              "  </style>\n",
              "\n",
              "      <script>\n",
              "        const buttonEl =\n",
              "          document.querySelector('#df-d866d107-3709-413b-ad25-13672b0de38f button.colab-df-convert');\n",
              "        buttonEl.style.display =\n",
              "          google.colab.kernel.accessAllowed ? 'block' : 'none';\n",
              "\n",
              "        async function convertToInteractive(key) {\n",
              "          const element = document.querySelector('#df-d866d107-3709-413b-ad25-13672b0de38f');\n",
              "          const dataTable =\n",
              "            await google.colab.kernel.invokeFunction('convertToInteractive',\n",
              "                                                     [key], {});\n",
              "          if (!dataTable) return;\n",
              "\n",
              "          const docLinkHtml = 'Like what you see? Visit the ' +\n",
              "            '<a target=\"_blank\" href=https://colab.research.google.com/notebooks/data_table.ipynb>data table notebook</a>'\n",
              "            + ' to learn more about interactive tables.';\n",
              "          element.innerHTML = '';\n",
              "          dataTable['output_type'] = 'display_data';\n",
              "          await google.colab.output.renderOutput(dataTable, element);\n",
              "          const docLink = document.createElement('div');\n",
              "          docLink.innerHTML = docLinkHtml;\n",
              "          element.appendChild(docLink);\n",
              "        }\n",
              "      </script>\n",
              "    </div>\n",
              "  </div>\n",
              "  "
            ]
          },
          "metadata": {},
          "execution_count": 17
        }
      ]
    },
    {
      "cell_type": "markdown",
      "id": "dc0e3086",
      "metadata": {
        "id": "dc0e3086"
      },
      "source": [
        "### 9. Encode the categorical data."
      ]
    },
    {
      "cell_type": "code",
      "execution_count": null,
      "id": "e468b316",
      "metadata": {
        "id": "e468b316",
        "outputId": "778880c0-621e-4f35-dfce-e4e2de06eaa8",
        "colab": {
          "base_uri": "https://localhost:8080/",
          "height": 193
        }
      },
      "outputs": [
        {
          "output_type": "execute_result",
          "data": {
            "text/plain": [
              "    age  hypertension  heart_disease  avg_glucose_level   bmi  gender_Male  \\\n",
              "0  67.0             0              1             228.69  36.6            1   \n",
              "1  80.0             0              1             105.92  32.5            1   \n",
              "\n",
              "   ever_married_Yes  work_type_Private  work_type_Self-employed  \\\n",
              "0                 1                  1                        0   \n",
              "1                 1                  1                        0   \n",
              "\n",
              "   work_type_children  Residence_type_Urban  smoking_status_formerly smoked  \\\n",
              "0                   0                     1                               1   \n",
              "1                   0                     0                               0   \n",
              "\n",
              "   smoking_status_never smoked  smoking_status_smokes  \n",
              "0                            0                      0  \n",
              "1                            1                      0  "
            ],
            "text/html": [
              "\n",
              "  <div id=\"df-5da37e6f-0cbd-4014-8b01-77bc38360f65\">\n",
              "    <div class=\"colab-df-container\">\n",
              "      <div>\n",
              "<style scoped>\n",
              "    .dataframe tbody tr th:only-of-type {\n",
              "        vertical-align: middle;\n",
              "    }\n",
              "\n",
              "    .dataframe tbody tr th {\n",
              "        vertical-align: top;\n",
              "    }\n",
              "\n",
              "    .dataframe thead th {\n",
              "        text-align: right;\n",
              "    }\n",
              "</style>\n",
              "<table border=\"1\" class=\"dataframe\">\n",
              "  <thead>\n",
              "    <tr style=\"text-align: right;\">\n",
              "      <th></th>\n",
              "      <th>age</th>\n",
              "      <th>hypertension</th>\n",
              "      <th>heart_disease</th>\n",
              "      <th>avg_glucose_level</th>\n",
              "      <th>bmi</th>\n",
              "      <th>gender_Male</th>\n",
              "      <th>ever_married_Yes</th>\n",
              "      <th>work_type_Private</th>\n",
              "      <th>work_type_Self-employed</th>\n",
              "      <th>work_type_children</th>\n",
              "      <th>Residence_type_Urban</th>\n",
              "      <th>smoking_status_formerly smoked</th>\n",
              "      <th>smoking_status_never smoked</th>\n",
              "      <th>smoking_status_smokes</th>\n",
              "    </tr>\n",
              "  </thead>\n",
              "  <tbody>\n",
              "    <tr>\n",
              "      <th>0</th>\n",
              "      <td>67.0</td>\n",
              "      <td>0</td>\n",
              "      <td>1</td>\n",
              "      <td>228.69</td>\n",
              "      <td>36.6</td>\n",
              "      <td>1</td>\n",
              "      <td>1</td>\n",
              "      <td>1</td>\n",
              "      <td>0</td>\n",
              "      <td>0</td>\n",
              "      <td>1</td>\n",
              "      <td>1</td>\n",
              "      <td>0</td>\n",
              "      <td>0</td>\n",
              "    </tr>\n",
              "    <tr>\n",
              "      <th>1</th>\n",
              "      <td>80.0</td>\n",
              "      <td>0</td>\n",
              "      <td>1</td>\n",
              "      <td>105.92</td>\n",
              "      <td>32.5</td>\n",
              "      <td>1</td>\n",
              "      <td>1</td>\n",
              "      <td>1</td>\n",
              "      <td>0</td>\n",
              "      <td>0</td>\n",
              "      <td>0</td>\n",
              "      <td>0</td>\n",
              "      <td>1</td>\n",
              "      <td>0</td>\n",
              "    </tr>\n",
              "  </tbody>\n",
              "</table>\n",
              "</div>\n",
              "      <button class=\"colab-df-convert\" onclick=\"convertToInteractive('df-5da37e6f-0cbd-4014-8b01-77bc38360f65')\"\n",
              "              title=\"Convert this dataframe to an interactive table.\"\n",
              "              style=\"display:none;\">\n",
              "        \n",
              "  <svg xmlns=\"http://www.w3.org/2000/svg\" height=\"24px\"viewBox=\"0 0 24 24\"\n",
              "       width=\"24px\">\n",
              "    <path d=\"M0 0h24v24H0V0z\" fill=\"none\"/>\n",
              "    <path d=\"M18.56 5.44l.94 2.06.94-2.06 2.06-.94-2.06-.94-.94-2.06-.94 2.06-2.06.94zm-11 1L8.5 8.5l.94-2.06 2.06-.94-2.06-.94L8.5 2.5l-.94 2.06-2.06.94zm10 10l.94 2.06.94-2.06 2.06-.94-2.06-.94-.94-2.06-.94 2.06-2.06.94z\"/><path d=\"M17.41 7.96l-1.37-1.37c-.4-.4-.92-.59-1.43-.59-.52 0-1.04.2-1.43.59L10.3 9.45l-7.72 7.72c-.78.78-.78 2.05 0 2.83L4 21.41c.39.39.9.59 1.41.59.51 0 1.02-.2 1.41-.59l7.78-7.78 2.81-2.81c.8-.78.8-2.07 0-2.86zM5.41 20L4 18.59l7.72-7.72 1.47 1.35L5.41 20z\"/>\n",
              "  </svg>\n",
              "      </button>\n",
              "      \n",
              "  <style>\n",
              "    .colab-df-container {\n",
              "      display:flex;\n",
              "      flex-wrap:wrap;\n",
              "      gap: 12px;\n",
              "    }\n",
              "\n",
              "    .colab-df-convert {\n",
              "      background-color: #E8F0FE;\n",
              "      border: none;\n",
              "      border-radius: 50%;\n",
              "      cursor: pointer;\n",
              "      display: none;\n",
              "      fill: #1967D2;\n",
              "      height: 32px;\n",
              "      padding: 0 0 0 0;\n",
              "      width: 32px;\n",
              "    }\n",
              "\n",
              "    .colab-df-convert:hover {\n",
              "      background-color: #E2EBFA;\n",
              "      box-shadow: 0px 1px 2px rgba(60, 64, 67, 0.3), 0px 1px 3px 1px rgba(60, 64, 67, 0.15);\n",
              "      fill: #174EA6;\n",
              "    }\n",
              "\n",
              "    [theme=dark] .colab-df-convert {\n",
              "      background-color: #3B4455;\n",
              "      fill: #D2E3FC;\n",
              "    }\n",
              "\n",
              "    [theme=dark] .colab-df-convert:hover {\n",
              "      background-color: #434B5C;\n",
              "      box-shadow: 0px 1px 3px 1px rgba(0, 0, 0, 0.15);\n",
              "      filter: drop-shadow(0px 1px 2px rgba(0, 0, 0, 0.3));\n",
              "      fill: #FFFFFF;\n",
              "    }\n",
              "  </style>\n",
              "\n",
              "      <script>\n",
              "        const buttonEl =\n",
              "          document.querySelector('#df-5da37e6f-0cbd-4014-8b01-77bc38360f65 button.colab-df-convert');\n",
              "        buttonEl.style.display =\n",
              "          google.colab.kernel.accessAllowed ? 'block' : 'none';\n",
              "\n",
              "        async function convertToInteractive(key) {\n",
              "          const element = document.querySelector('#df-5da37e6f-0cbd-4014-8b01-77bc38360f65');\n",
              "          const dataTable =\n",
              "            await google.colab.kernel.invokeFunction('convertToInteractive',\n",
              "                                                     [key], {});\n",
              "          if (!dataTable) return;\n",
              "\n",
              "          const docLinkHtml = 'Like what you see? Visit the ' +\n",
              "            '<a target=\"_blank\" href=https://colab.research.google.com/notebooks/data_table.ipynb>data table notebook</a>'\n",
              "            + ' to learn more about interactive tables.';\n",
              "          element.innerHTML = '';\n",
              "          dataTable['output_type'] = 'display_data';\n",
              "          await google.colab.output.renderOutput(dataTable, element);\n",
              "          const docLink = document.createElement('div');\n",
              "          docLink.innerHTML = docLinkHtml;\n",
              "          element.appendChild(docLink);\n",
              "        }\n",
              "      </script>\n",
              "    </div>\n",
              "  </div>\n",
              "  "
            ]
          },
          "metadata": {},
          "execution_count": 18
        }
      ],
      "source": [
        "X = pd.get_dummies(X,drop_first=True)\n",
        "X.head(2)"
      ]
    },
    {
      "cell_type": "markdown",
      "id": "759bacc4",
      "metadata": {
        "id": "759bacc4"
      },
      "source": [
        "### 10. Handle the imbalanced data using oversampling or undersampling approach, and check the distribution of the resampled target class."
      ]
    },
    {
      "cell_type": "code",
      "execution_count": null,
      "id": "afb6e2f4",
      "metadata": {
        "id": "afb6e2f4"
      },
      "outputs": [],
      "source": [
        "## Here, we are balancing the imbalanced data using Oversampling approach."
      ]
    },
    {
      "cell_type": "code",
      "execution_count": null,
      "id": "7723b868",
      "metadata": {
        "id": "7723b868"
      },
      "outputs": [],
      "source": [
        "from imblearn.over_sampling import SMOTE\n",
        "\n",
        "smote = SMOTE(sampling_strategy=0.65)\n",
        "X_res,y_res = smote.fit_resample(X,y)"
      ]
    },
    {
      "cell_type": "code",
      "source": [
        "X_res.shape,y_res.shape"
      ],
      "metadata": {
        "colab": {
          "base_uri": "https://localhost:8080/"
        },
        "id": "yAI4f60y3UlO",
        "outputId": "b7977f13-b34d-4eac-fceb-41c05e358a49"
      },
      "id": "yAI4f60y3UlO",
      "execution_count": null,
      "outputs": [
        {
          "output_type": "execute_result",
          "data": {
            "text/plain": [
              "((7809, 14), (7809,))"
            ]
          },
          "metadata": {},
          "execution_count": 21
        }
      ]
    },
    {
      "cell_type": "code",
      "execution_count": null,
      "id": "cd45ab85",
      "metadata": {
        "id": "cd45ab85",
        "outputId": "e90d2b5c-b74e-4534-ba3f-3de70328b9b7",
        "colab": {
          "base_uri": "https://localhost:8080/"
        }
      },
      "outputs": [
        {
          "output_type": "execute_result",
          "data": {
            "text/plain": [
              "stroke\n",
              "0         60.609553\n",
              "1         39.390447\n",
              "dtype: float64"
            ]
          },
          "metadata": {},
          "execution_count": 22
        }
      ],
      "source": [
        "## Checking the distribution of the resampled target class\n",
        "pd.DataFrame(y_res).value_counts(normalize=True)*100"
      ]
    },
    {
      "cell_type": "markdown",
      "id": "227fb2ed",
      "metadata": {
        "id": "227fb2ed"
      },
      "source": [
        "- We can observe, we have successfully oversampled the minority class, and the distribution of the target class is balanced 60%-40%."
      ]
    },
    {
      "cell_type": "markdown",
      "id": "71de76aa",
      "metadata": {
        "id": "71de76aa"
      },
      "source": [
        "### 11. Split the dataset into train and test."
      ]
    },
    {
      "cell_type": "code",
      "execution_count": null,
      "id": "6bc31c88",
      "metadata": {
        "id": "6bc31c88",
        "outputId": "ac534531-2017-41e9-f9a6-9ddfc16269e3",
        "colab": {
          "base_uri": "https://localhost:8080/"
        }
      },
      "outputs": [
        {
          "output_type": "stream",
          "name": "stdout",
          "text": [
            "(6247, 14) (1562, 14)\n",
            "(6247,) (1562,)\n"
          ]
        }
      ],
      "source": [
        "## Splitting the balanced data into train and test.\n",
        "X_train, X_test, y_train, y_test = train_test_split(X_res,y_res, test_size=0.20, random_state=42)\n",
        "\n",
        "print(X_train.shape,X_test.shape)\n",
        "print(y_train.shape,y_test.shape)"
      ]
    },
    {
      "cell_type": "markdown",
      "id": "ed7adeca",
      "metadata": {
        "id": "ed7adeca"
      },
      "source": [
        "## Model Building and Evaluation"
      ]
    },
    {
      "cell_type": "markdown",
      "id": "37ffe664",
      "metadata": {
        "id": "37ffe664"
      },
      "source": [
        "### 13. Build a base model using the Original Imbalanced data."
      ]
    },
    {
      "cell_type": "code",
      "execution_count": null,
      "id": "1ae753ea",
      "metadata": {
        "id": "1ae753ea",
        "outputId": "754e636b-f9a5-4792-d130-099c31449d0e",
        "colab": {
          "base_uri": "https://localhost:8080/"
        }
      },
      "outputs": [
        {
          "output_type": "stream",
          "name": "stdout",
          "text": [
            "(3984, 14) (997, 14)\n",
            "(3984,) (997,)\n"
          ]
        }
      ],
      "source": [
        "## Splitting the original dataset into train and test\n",
        "\n",
        "X_train_base, X_test_base, y_train_base, y_test_base = train_test_split(X,y, test_size=0.20, random_state=42)\n",
        "\n",
        "print(X_train_base.shape,X_test_base.shape)\n",
        "print(y_train_base.shape,y_test_base.shape)"
      ]
    },
    {
      "cell_type": "code",
      "execution_count": null,
      "id": "689a427f",
      "metadata": {
        "id": "689a427f",
        "outputId": "27a9b571-4326-4f4f-fee6-4170702e90b9",
        "colab": {
          "base_uri": "https://localhost:8080/"
        }
      },
      "outputs": [
        {
          "output_type": "stream",
          "name": "stdout",
          "text": [
            "Accuracy: 0.9418254764292878\n",
            "Recall: 0.0\n",
            "Confusion Matrix:\n",
            "               precision    recall  f1-score   support\n",
            "\n",
            "           0       1.00      0.95      0.97       993\n",
            "           1       0.00      0.00      0.00         4\n",
            "\n",
            "    accuracy                           0.94       997\n",
            "   macro avg       0.50      0.47      0.49       997\n",
            "weighted avg       0.99      0.94      0.97       997\n",
            "\n"
          ]
        }
      ],
      "source": [
        "## Building a simple random forest classifier as a base model using original data.\n",
        "rf = RandomForestClassifier()\n",
        "rf.fit(X_train_base,y_train_base)\n",
        "\n",
        "## Prediction on original test data\n",
        "og_prediction = rf.predict(X_test_base)\n",
        "\n",
        "## Computing Accuracy, Recall, and Confusion matrix for test data\n",
        "print(\"Accuracy:\",metrics.accuracy_score(og_prediction,y_test_base))\n",
        "print(\"Recall:\",metrics.recall_score(og_prediction,y_test_base))\n",
        "print(\"Confusion Matrix:\\n\",metrics.classification_report(og_prediction,y_test_base))"
      ]
    },
    {
      "cell_type": "markdown",
      "id": "b352f19e",
      "metadata": {
        "id": "b352f19e"
      },
      "source": [
        "- We can observe that we have a very good accuracy score, `Please note:` we have target which is highly imbalanced and accuracy will be biased and it is not a suitable metric to evaluate the model performance.\n",
        "- Precision, recall score, and f1-score is good for class 0 (majority class), where as precision, recall, and f1-score is zero for 1(minority class), due to the imbalance dataset.\n",
        "- So, need to consider Recall score to evaluate the performance of the model. Here we have recall score has 0. (too bad)\n",
        "- In order to increase our model performance, we need to use the balanced data."
      ]
    },
    {
      "cell_type": "markdown",
      "metadata": {
        "id": "XlwGslJH1aya"
      },
      "source": [
        "### 13. Model building using the Balanced data."
      ],
      "id": "XlwGslJH1aya"
    },
    {
      "cell_type": "markdown",
      "source": [
        "#### For all the models built below we will follow the below flow:\n",
        "- Build a base model using the balanced data\n",
        "- Select K features using Wrapper or Embedded Methods\n",
        "- Perform hyperparameter tuning on all the models to tune the hyperparameters and find the best hyperparameters.\n",
        "- Build a pipeline for all the model using the K selected feature and the hyperparameters and build a full model and compute it's accuracy and Recall.\n",
        "- Once all the above steps are completed, we collectively compare the performance of all the models and find the best performing model."
      ],
      "metadata": {
        "id": "ITv36sSGuQwX"
      },
      "id": "ITv36sSGuQwX"
    },
    {
      "cell_type": "markdown",
      "source": [
        "#### Using RandomForestClassifier "
      ],
      "metadata": {
        "id": "ywaIYyxIoXTH"
      },
      "id": "ywaIYyxIoXTH"
    },
    {
      "cell_type": "code",
      "source": [
        "## Building a simple random forest classifier as a base model using balanced data.\n",
        "rf1 = RandomForestClassifier()\n",
        "rf1.fit(X_train,y_train)\n",
        "\n",
        "## Prediction on original test data\n",
        "rf1_base = rf1.predict(X_test)\n",
        "\n",
        "## Computing Accuracy, Recall, and Confusion matrix for test data\n",
        "print(\"Accuracy:\",metrics.accuracy_score(rf1_base,y_test))\n",
        "print(\"Recall:\",metrics.recall_score(rf1_base,y_test))\n",
        "print(\"Confusion Matrix:\\n\",metrics.classification_report(rf1_base,y_test))"
      ],
      "metadata": {
        "colab": {
          "base_uri": "https://localhost:8080/"
        },
        "id": "K95krd_i1GAH",
        "outputId": "e00f0cb0-0b00-4405-9f9b-274a392d06b5"
      },
      "id": "K95krd_i1GAH",
      "execution_count": null,
      "outputs": [
        {
          "output_type": "stream",
          "name": "stdout",
          "text": [
            "Accuracy: 0.9379001280409731\n",
            "Recall: 0.9310897435897436\n",
            "Confusion Matrix:\n",
            "               precision    recall  f1-score   support\n",
            "\n",
            "           0       0.95      0.94      0.95       938\n",
            "           1       0.91      0.93      0.92       624\n",
            "\n",
            "    accuracy                           0.94      1562\n",
            "   macro avg       0.93      0.94      0.94      1562\n",
            "weighted avg       0.94      0.94      0.94      1562\n",
            "\n"
          ]
        }
      ]
    },
    {
      "cell_type": "markdown",
      "source": [
        "- On building a base model using the balanced data we see that the performance of the model has increased and the recall for both the classes(0 and 1) are equal to 0.95 and 0.94 which is a good value."
      ],
      "metadata": {
        "id": "xHnFgcR5nuws"
      },
      "id": "xHnFgcR5nuws"
    },
    {
      "cell_type": "code",
      "source": [
        "# Build step forward feature selection\n",
        "sfs1 = sfs(rf1, k_features=11, forward=True, cv=5)\n",
        "# Perform SFFS\n",
        "sfs1 = sfs1.fit(X_train, y_train)\n",
        "sfs2=sfs1.get_metric_dict()\n",
        "sfs2 = pd.DataFrame.from_dict(sfs2)\n",
        "\n",
        "fig = plot_sfs(sfs2)\n",
        "\n",
        "plt.title('Sequential Forward Selection')\n",
        "plt.grid()\n",
        "plt.show()"
      ],
      "metadata": {
        "colab": {
          "base_uri": "https://localhost:8080/",
          "height": 295
        },
        "id": "2XfDfSbGbwmV",
        "outputId": "034973e2-16a7-4266-f379-ac3975fe727a"
      },
      "id": "2XfDfSbGbwmV",
      "execution_count": null,
      "outputs": [
        {
          "output_type": "display_data",
          "data": {
            "text/plain": [
              "<Figure size 432x288 with 1 Axes>"
            ],
            "image/png": "[encoded data removed]"
          },
          "metadata": {
            "needs_background": "light"
          }
        }
      ]
    },
    {
      "cell_type": "code",
      "source": [
        "# Which features?\n",
        "columnList = list(X)\n",
        "feat_cols = list(sfs1.k_feature_idx_)\n",
        "print(feat_cols)"
      ],
      "metadata": {
        "colab": {
          "base_uri": "https://localhost:8080/"
        },
        "id": "bmjK0NebeNH4",
        "outputId": "db216916-7c00-470c-fe3d-80461a19cc7b"
      },
      "id": "bmjK0NebeNH4",
      "execution_count": null,
      "outputs": [
        {
          "output_type": "stream",
          "name": "stdout",
          "text": [
            "[0, 1, 3, 4, 6, 7, 8, 9, 11, 12, 13]\n"
          ]
        }
      ]
    },
    {
      "cell_type": "code",
      "source": [
        "# to fetch the names of the columns using the index\n",
        "subsetColumnList = [columnList[i] for i in feat_cols] \n",
        "print(subsetColumnList)"
      ],
      "metadata": {
        "colab": {
          "base_uri": "https://localhost:8080/"
        },
        "id": "kyEApQWQeNFd",
        "outputId": "fe114274-d89b-46b6-9562-ec716fc47530"
      },
      "id": "kyEApQWQeNFd",
      "execution_count": null,
      "outputs": [
        {
          "output_type": "stream",
          "name": "stdout",
          "text": [
            "['age', 'hypertension', 'avg_glucose_level', 'bmi', 'ever_married_Yes', 'work_type_Private', 'work_type_Self-employed', 'work_type_children', 'smoking_status_formerly smoked', 'smoking_status_never smoked', 'smoking_status_smokes']\n"
          ]
        }
      ]
    },
    {
      "cell_type": "markdown",
      "source": [
        "## Here we are going to build Random Forest Classification model and Tune the hyperparameters for the same using \"GridSearchCV\""
      ],
      "metadata": {
        "id": "7IpmmseOexRR"
      },
      "id": "7IpmmseOexRR"
    },
    {
      "cell_type": "code",
      "source": [
        "X_train.head()"
      ],
      "metadata": {
        "colab": {
          "base_uri": "https://localhost:8080/",
          "height": 287
        },
        "id": "ZWyxV9qAZU8U",
        "outputId": "d27aa5f9-8cd9-4042-fcf7-df6fb71ac6c4"
      },
      "id": "ZWyxV9qAZU8U",
      "execution_count": null,
      "outputs": [
        {
          "output_type": "execute_result",
          "data": {
            "text/plain": [
              "            age  hypertension  heart_disease  avg_glucose_level        bmi  \\\n",
              "4677  70.000000             0              0         212.870000  34.800000   \n",
              "3728   0.720000             0              0         159.790000  19.900000   \n",
              "6137  55.588457             0              0          86.319787  34.065119   \n",
              "6200  69.650904             0              0         267.106463  35.282290   \n",
              "4991  80.000000             1              0          70.008861  31.505030   \n",
              "\n",
              "      gender_Male  ever_married_Yes  work_type_Private  \\\n",
              "4677            0                 1                  1   \n",
              "3728            1                 0                  0   \n",
              "6137            1                 1                  0   \n",
              "6200            0                 1                  0   \n",
              "4991            0                 0                  0   \n",
              "\n",
              "      work_type_Self-employed  work_type_children  Residence_type_Urban  \\\n",
              "4677                        0                   0                     0   \n",
              "3728                        0                   1                     0   \n",
              "6137                        0                   0                     0   \n",
              "6200                        0                   0                     0   \n",
              "4991                        0                   0                     0   \n",
              "\n",
              "      smoking_status_formerly smoked  smoking_status_never smoked  \\\n",
              "4677                               0                            1   \n",
              "3728                               0                            0   \n",
              "6137                               0                            0   \n",
              "6200                               0                            0   \n",
              "4991                               0                            1   \n",
              "\n",
              "      smoking_status_smokes  \n",
              "4677                      0  \n",
              "3728                      0  \n",
              "6137                      0  \n",
              "6200                      0  \n",
              "4991                      0  "
            ],
            "text/html": [
              "\n",
              "  <div id=\"df-f458a86e-f415-4bc8-8f8b-74f2f777a4b4\">\n",
              "    <div class=\"colab-df-container\">\n",
              "      <div>\n",
              "<style scoped>\n",
              "    .dataframe tbody tr th:only-of-type {\n",
              "        vertical-align: middle;\n",
              "    }\n",
              "\n",
              "    .dataframe tbody tr th {\n",
              "        vertical-align: top;\n",
              "    }\n",
              "\n",
              "    .dataframe thead th {\n",
              "        text-align: right;\n",
              "    }\n",
              "</style>\n",
              "<table border=\"1\" class=\"dataframe\">\n",
              "  <thead>\n",
              "    <tr style=\"text-align: right;\">\n",
              "      <th></th>\n",
              "      <th>age</th>\n",
              "      <th>hypertension</th>\n",
              "      <th>heart_disease</th>\n",
              "      <th>avg_glucose_level</th>\n",
              "      <th>bmi</th>\n",
              "      <th>gender_Male</th>\n",
              "      <th>ever_married_Yes</th>\n",
              "      <th>work_type_Private</th>\n",
              "      <th>work_type_Self-employed</th>\n",
              "      <th>work_type_children</th>\n",
              "      <th>Residence_type_Urban</th>\n",
              "      <th>smoking_status_formerly smoked</th>\n",
              "      <th>smoking_status_never smoked</th>\n",
              "      <th>smoking_status_smokes</th>\n",
              "    </tr>\n",
              "  </thead>\n",
              "  <tbody>\n",
              "    <tr>\n",
              "      <th>4677</th>\n",
              "      <td>70.000000</td>\n",
              "      <td>0</td>\n",
              "      <td>0</td>\n",
              "      <td>212.870000</td>\n",
              "      <td>34.800000</td>\n",
              "      <td>0</td>\n",
              "      <td>1</td>\n",
              "      <td>1</td>\n",
              "      <td>0</td>\n",
              "      <td>0</td>\n",
              "      <td>0</td>\n",
              "      <td>0</td>\n",
              "      <td>1</td>\n",
              "      <td>0</td>\n",
              "    </tr>\n",
              "    <tr>\n",
              "      <th>3728</th>\n",
              "      <td>0.720000</td>\n",
              "      <td>0</td>\n",
              "      <td>0</td>\n",
              "      <td>159.790000</td>\n",
              "      <td>19.900000</td>\n",
              "      <td>1</td>\n",
              "      <td>0</td>\n",
              "      <td>0</td>\n",
              "      <td>0</td>\n",
              "      <td>1</td>\n",
              "      <td>0</td>\n",
              "      <td>0</td>\n",
              "      <td>0</td>\n",
              "      <td>0</td>\n",
              "    </tr>\n",
              "    <tr>\n",
              "      <th>6137</th>\n",
              "      <td>55.588457</td>\n",
              "      <td>0</td>\n",
              "      <td>0</td>\n",
              "      <td>86.319787</td>\n",
              "      <td>34.065119</td>\n",
              "      <td>1</td>\n",
              "      <td>1</td>\n",
              "      <td>0</td>\n",
              "      <td>0</td>\n",
              "      <td>0</td>\n",
              "      <td>0</td>\n",
              "      <td>0</td>\n",
              "      <td>0</td>\n",
              "      <td>0</td>\n",
              "    </tr>\n",
              "    <tr>\n",
              "      <th>6200</th>\n",
              "      <td>69.650904</td>\n",
              "      <td>0</td>\n",
              "      <td>0</td>\n",
              "      <td>267.106463</td>\n",
              "      <td>35.282290</td>\n",
              "      <td>0</td>\n",
              "      <td>1</td>\n",
              "      <td>0</td>\n",
              "      <td>0</td>\n",
              "      <td>0</td>\n",
              "      <td>0</td>\n",
              "      <td>0</td>\n",
              "      <td>0</td>\n",
              "      <td>0</td>\n",
              "    </tr>\n",
              "    <tr>\n",
              "      <th>4991</th>\n",
              "      <td>80.000000</td>\n",
              "      <td>1</td>\n",
              "      <td>0</td>\n",
              "      <td>70.008861</td>\n",
              "      <td>31.505030</td>\n",
              "      <td>0</td>\n",
              "      <td>0</td>\n",
              "      <td>0</td>\n",
              "      <td>0</td>\n",
              "      <td>0</td>\n",
              "      <td>0</td>\n",
              "      <td>0</td>\n",
              "      <td>1</td>\n",
              "      <td>0</td>\n",
              "    </tr>\n",
              "  </tbody>\n",
              "</table>\n",
              "</div>\n",
              "      <button class=\"colab-df-convert\" onclick=\"convertToInteractive('df-f458a86e-f415-4bc8-8f8b-74f2f777a4b4')\"\n",
              "              title=\"Convert this dataframe to an interactive table.\"\n",
              "              style=\"display:none;\">\n",
              "        \n",
              "  <svg xmlns=\"http://www.w3.org/2000/svg\" height=\"24px\"viewBox=\"0 0 24 24\"\n",
              "       width=\"24px\">\n",
              "    <path d=\"M0 0h24v24H0V0z\" fill=\"none\"/>\n",
              "    <path d=\"M18.56 5.44l.94 2.06.94-2.06 2.06-.94-2.06-.94-.94-2.06-.94 2.06-2.06.94zm-11 1L8.5 8.5l.94-2.06 2.06-.94-2.06-.94L8.5 2.5l-.94 2.06-2.06.94zm10 10l.94 2.06.94-2.06 2.06-.94-2.06-.94-.94-2.06-.94 2.06-2.06.94z\"/><path d=\"M17.41 7.96l-1.37-1.37c-.4-.4-.92-.59-1.43-.59-.52 0-1.04.2-1.43.59L10.3 9.45l-7.72 7.72c-.78.78-.78 2.05 0 2.83L4 21.41c.39.39.9.59 1.41.59.51 0 1.02-.2 1.41-.59l7.78-7.78 2.81-2.81c.8-.78.8-2.07 0-2.86zM5.41 20L4 18.59l7.72-7.72 1.47 1.35L5.41 20z\"/>\n",
              "  </svg>\n",
              "      </button>\n",
              "      \n",
              "  <style>\n",
              "    .colab-df-container {\n",
              "      display:flex;\n",
              "      flex-wrap:wrap;\n",
              "      gap: 12px;\n",
              "    }\n",
              "\n",
              "    .colab-df-convert {\n",
              "      background-color: #E8F0FE;\n",
              "      border: none;\n",
              "      border-radius: 50%;\n",
              "      cursor: pointer;\n",
              "      display: none;\n",
              "      fill: #1967D2;\n",
              "      height: 32px;\n",
              "      padding: 0 0 0 0;\n",
              "      width: 32px;\n",
              "    }\n",
              "\n",
              "    .colab-df-convert:hover {\n",
              "      background-color: #E2EBFA;\n",
              "      box-shadow: 0px 1px 2px rgba(60, 64, 67, 0.3), 0px 1px 3px 1px rgba(60, 64, 67, 0.15);\n",
              "      fill: #174EA6;\n",
              "    }\n",
              "\n",
              "    [theme=dark] .colab-df-convert {\n",
              "      background-color: #3B4455;\n",
              "      fill: #D2E3FC;\n",
              "    }\n",
              "\n",
              "    [theme=dark] .colab-df-convert:hover {\n",
              "      background-color: #434B5C;\n",
              "      box-shadow: 0px 1px 3px 1px rgba(0, 0, 0, 0.15);\n",
              "      filter: drop-shadow(0px 1px 2px rgba(0, 0, 0, 0.3));\n",
              "      fill: #FFFFFF;\n",
              "    }\n",
              "  </style>\n",
              "\n",
              "      <script>\n",
              "        const buttonEl =\n",
              "          document.querySelector('#df-f458a86e-f415-4bc8-8f8b-74f2f777a4b4 button.colab-df-convert');\n",
              "        buttonEl.style.display =\n",
              "          google.colab.kernel.accessAllowed ? 'block' : 'none';\n",
              "\n",
              "        async function convertToInteractive(key) {\n",
              "          const element = document.querySelector('#df-f458a86e-f415-4bc8-8f8b-74f2f777a4b4');\n",
              "          const dataTable =\n",
              "            await google.colab.kernel.invokeFunction('convertToInteractive',\n",
              "                                                     [key], {});\n",
              "          if (!dataTable) return;\n",
              "\n",
              "          const docLinkHtml = 'Like what you see? Visit the ' +\n",
              "            '<a target=\"_blank\" href=https://colab.research.google.com/notebooks/data_table.ipynb>data table notebook</a>'\n",
              "            + ' to learn more about interactive tables.';\n",
              "          element.innerHTML = '';\n",
              "          dataTable['output_type'] = 'display_data';\n",
              "          await google.colab.output.renderOutput(dataTable, element);\n",
              "          const docLink = document.createElement('div');\n",
              "          docLink.innerHTML = docLinkHtml;\n",
              "          element.appendChild(docLink);\n",
              "        }\n",
              "      </script>\n",
              "    </div>\n",
              "  </div>\n",
              "  "
            ]
          },
          "metadata": {},
          "execution_count": 32
        }
      ]
    },
    {
      "cell_type": "code",
      "source": [
        "X_train_new=pd.DataFrame(X_train[subsetColumnList])\n",
        "X_test_new=pd.DataFrame(X_test[subsetColumnList])"
      ],
      "metadata": {
        "id": "pCSlAlNeHSgc"
      },
      "id": "pCSlAlNeHSgc",
      "execution_count": null,
      "outputs": []
    },
    {
      "cell_type": "code",
      "source": [
        "X_train_new.shape"
      ],
      "metadata": {
        "colab": {
          "base_uri": "https://localhost:8080/"
        },
        "id": "JECAD5bWHYwY",
        "outputId": "9855395e-d6e0-4e38-e0ca-a7ea582fc532"
      },
      "id": "JECAD5bWHYwY",
      "execution_count": null,
      "outputs": [
        {
          "output_type": "execute_result",
          "data": {
            "text/plain": [
              "(6247, 11)"
            ]
          },
          "metadata": {},
          "execution_count": 34
        }
      ]
    },
    {
      "cell_type": "code",
      "source": [
        "col_trans = ColumnTransformer([\n",
        "    ('ss', StandardScaler(), X_train_new.columns)])"
      ],
      "metadata": {
        "id": "VzGgZDEpH34X"
      },
      "id": "VzGgZDEpH34X",
      "execution_count": null,
      "outputs": []
    },
    {
      "cell_type": "code",
      "source": [
        "# Building a pipeline\n",
        "pipeline = Pipeline([ ('preprocessor',col_trans),  # Scaling the data\n",
        "    ('algo',RandomForestClassifier(random_state=0, n_jobs=-1))\n",
        "])"
      ],
      "metadata": {
        "id": "DCDJU47M_tug"
      },
      "id": "DCDJU47M_tug",
      "execution_count": null,
      "outputs": []
    },
    {
      "cell_type": "code",
      "source": [
        "col_trans.fit(X_train_new)"
      ],
      "metadata": {
        "id": "nAgmettVE6Bw",
        "colab": {
          "base_uri": "https://localhost:8080/"
        },
        "outputId": "007c3c87-5d22-421a-a86c-8df415b86963"
      },
      "id": "nAgmettVE6Bw",
      "execution_count": null,
      "outputs": [
        {
          "output_type": "execute_result",
          "data": {
            "text/plain": [
              "ColumnTransformer(transformers=[('ss', StandardScaler(),\n",
              "                                 Index(['age', 'hypertension', 'avg_glucose_level', 'bmi', 'ever_married_Yes',\n",
              "       'work_type_Private', 'work_type_Self-employed', 'work_type_children',\n",
              "       'smoking_status_formerly smoked', 'smoking_status_never smoked',\n",
              "       'smoking_status_smokes'],\n",
              "      dtype='object'))])"
            ]
          },
          "metadata": {},
          "execution_count": 37
        }
      ]
    },
    {
      "cell_type": "code",
      "execution_count": null,
      "id": "db1eaee7",
      "metadata": {
        "id": "db1eaee7"
      },
      "outputs": [],
      "source": [
        "### Parameters to tune.\n",
        "param_rf = [{'algo__n_estimators':[100, 200, 500, 1000],\n",
        "            'algo__max_depth':[7,9, 13,15,19,23,25]}]"
      ]
    },
    {
      "cell_type": "code",
      "source": [
        "# Create an instance of GridSearchCV as model\n",
        "grid_cv = GridSearchCV(pipeline,param_rf,cv=5,n_jobs=-1,verbose=1)\n",
        "\n",
        "#learning\n",
        "grid_cv.fit(X_train_new,y_train)\n",
        "\n",
        "# print best hyperparameters from shared set of parameters\n",
        "print(\"Best Hyper Parameters:\\n\",grid_cv.best_params_)"
      ],
      "metadata": {
        "colab": {
          "base_uri": "https://localhost:8080/"
        },
        "id": "U0ZSXV-LArp_",
        "outputId": "5216db9c-5650-4222-8221-1ae43edcd60d"
      },
      "id": "U0ZSXV-LArp_",
      "execution_count": null,
      "outputs": [
        {
          "output_type": "stream",
          "name": "stdout",
          "text": [
            "Fitting 5 folds for each of 28 candidates, totalling 140 fits\n",
            "Best Hyper Parameters:\n",
            " {'algo__max_depth': 23, 'algo__n_estimators': 1000}\n"
          ]
        }
      ]
    },
    {
      "cell_type": "code",
      "source": [
        "#evaluation(Confusion Matrix)\n",
        "prediction_GS = grid_cv.predict(X_test_new)\n",
        "print(\"Confusion Matrix:\\n\",metrics.confusion_matrix(prediction_GS,y_test))"
      ],
      "metadata": {
        "colab": {
          "base_uri": "https://localhost:8080/"
        },
        "id": "eHumv865EXXt",
        "outputId": "ca91ce30-137f-45dd-9897-7b2357c4e2c9"
      },
      "id": "eHumv865EXXt",
      "execution_count": null,
      "outputs": [
        {
          "output_type": "stream",
          "name": "stdout",
          "text": [
            "Confusion Matrix:\n",
            " [[882  64]\n",
            " [ 45 571]]\n"
          ]
        }
      ]
    },
    {
      "cell_type": "code",
      "execution_count": null,
      "id": "73704bdd",
      "metadata": {
        "id": "73704bdd"
      },
      "outputs": [],
      "source": [
        "from sklearn.ensemble import RandomForestClassifier\n",
        "# Building a pipeline and passing the transformer and the classfier\n",
        "# Building a pipeline\n",
        "pipeline_rf = Pipeline([\n",
        "    ('preprocessor',col_trans),\n",
        "    ('algo',RandomForestClassifier(max_depth= 23, n_estimators= 1000,random_state=0, n_jobs=-1))\n",
        "])"
      ]
    },
    {
      "cell_type": "code",
      "execution_count": null,
      "id": "8e47f211",
      "metadata": {
        "id": "8e47f211",
        "outputId": "124a2920-7101-42ff-9142-ec610996c8f7",
        "colab": {
          "base_uri": "https://localhost:8080/"
        }
      },
      "outputs": [
        {
          "output_type": "execute_result",
          "data": {
            "text/plain": [
              "Pipeline(steps=[('preprocessor',\n",
              "                 ColumnTransformer(transformers=[('ss', StandardScaler(),\n",
              "                                                  Index(['age', 'hypertension', 'avg_glucose_level', 'bmi', 'ever_married_Yes',\n",
              "       'work_type_Private', 'work_type_Self-employed', 'work_type_children',\n",
              "       'smoking_status_formerly smoked', 'smoking_status_never smoked',\n",
              "       'smoking_status_smokes'],\n",
              "      dtype='object'))])),\n",
              "                ('algo',\n",
              "                 RandomForestClassifier(max_depth=23, n_estimators=1000,\n",
              "                                        n_jobs=-1, random_state=0))])"
            ]
          },
          "metadata": {},
          "execution_count": 43
        }
      ],
      "source": [
        "## Fitting the pipeline on the train data.\n",
        "pipeline_rf.fit(X_train_new,y_train)"
      ]
    },
    {
      "cell_type": "code",
      "execution_count": null,
      "id": "56eda9d4",
      "metadata": {
        "id": "56eda9d4",
        "outputId": "8ff99670-4d7e-42a3-e8c9-23516b8a55ae",
        "colab": {
          "base_uri": "https://localhost:8080/"
        }
      },
      "outputs": [
        {
          "output_type": "stream",
          "name": "stdout",
          "text": [
            "Accuracy: 0.9302176696542894\n",
            "Recall: 0.926948051948052\n",
            "Confusion Matrix:\n",
            "               precision    recall  f1-score   support\n",
            "\n",
            "           0       0.95      0.93      0.94       946\n",
            "           1       0.90      0.93      0.91       616\n",
            "\n",
            "    accuracy                           0.93      1562\n",
            "   macro avg       0.93      0.93      0.93      1562\n",
            "weighted avg       0.93      0.93      0.93      1562\n",
            "\n"
          ]
        }
      ],
      "source": [
        "## Prediction on test data\n",
        "prediction_rf = pipeline_rf.predict(X_test_new)\n",
        "\n",
        "## Computing Accuracy, Recall, and Confusion matrix for test data\n",
        "print(\"Accuracy:\",metrics.accuracy_score(prediction_rf,y_test))\n",
        "print(\"Recall:\",metrics.recall_score(prediction_rf,y_test))\n",
        "print(\"Confusion Matrix:\\n\",metrics.classification_report(prediction_rf,y_test))"
      ]
    },
    {
      "cell_type": "markdown",
      "source": [
        "#### Using DecisionTreeRegressor "
      ],
      "metadata": {
        "id": "Nsu2xtshpXX-"
      },
      "id": "Nsu2xtshpXX-"
    },
    {
      "cell_type": "code",
      "source": [
        "## Building a simple random forest classifier as a base model using original data.\n",
        "dt = DecisionTreeClassifier()\n",
        "dt.fit(X_train,y_train)\n",
        "\n",
        "## Prediction on original test data\n",
        "og_prediction_dt = dt.predict(X_test)\n",
        "\n",
        "## Computing Accuracy, Recall, and Confusion matrix for test data\n",
        "print(\"Accuracy:\",metrics.accuracy_score(og_prediction_dt,y_test))\n",
        "print(\"Recall:\",metrics.recall_score(og_prediction_dt,y_test))\n",
        "print(\"Confusion Matrix:\\n\",metrics.classification_report(og_prediction_dt,y_test))"
      ],
      "metadata": {
        "colab": {
          "base_uri": "https://localhost:8080/"
        },
        "outputId": "0cbe7984-ca31-4e10-c8bc-dd223494f471",
        "id": "v0PYykDXpXX-"
      },
      "execution_count": null,
      "outputs": [
        {
          "output_type": "stream",
          "name": "stdout",
          "text": [
            "Accuracy: 0.912932138284251\n",
            "Recall: 0.8941548183254344\n",
            "Confusion Matrix:\n",
            "               precision    recall  f1-score   support\n",
            "\n",
            "           0       0.93      0.93      0.93       929\n",
            "           1       0.89      0.89      0.89       633\n",
            "\n",
            "    accuracy                           0.91      1562\n",
            "   macro avg       0.91      0.91      0.91      1562\n",
            "weighted avg       0.91      0.91      0.91      1562\n",
            "\n"
          ]
        }
      ],
      "id": "v0PYykDXpXX-"
    },
    {
      "cell_type": "code",
      "source": [],
      "metadata": {
        "id": "-_Bx2ur3to-e"
      },
      "execution_count": null,
      "outputs": [],
      "id": "-_Bx2ur3to-e"
    },
    {
      "cell_type": "code",
      "source": [
        "# Build step forward feature selection\n",
        "sfs1 = sfs(dt, k_features=11, forward=False, cv=5)\n",
        "# Perform SFFS\n",
        "sfs1 = sfs1.fit(X_train.values, y_train)\n",
        "sfs2=sfs1.get_metric_dict()\n",
        "sfs2 = pd.DataFrame.from_dict(sfs2)\n",
        "\n",
        "fig = plot_sfs(sfs2)\n",
        "\n",
        "plt.title('Backward Feature Elimination')\n",
        "plt.grid()\n",
        "plt.show()"
      ],
      "metadata": {
        "colab": {
          "base_uri": "https://localhost:8080/",
          "height": 295
        },
        "outputId": "daac2bf9-baf3-4a2e-8a33-409045588b8c",
        "id": "K30K1bd4to-f"
      },
      "execution_count": null,
      "outputs": [
        {
          "output_type": "display_data",
          "data": {
            "text/plain": [
              "<Figure size 432x288 with 1 Axes>"
            ],
            "image/png": "[encoded data removed]"
          },
          "metadata": {
            "needs_background": "light"
          }
        }
      ],
      "id": "K30K1bd4to-f"
    },
    {
      "cell_type": "code",
      "source": [
        "# Which features?\n",
        "columnList = list(X_train)\n",
        "feat_cols = list(sfs1.k_feature_idx_)\n",
        "print(feat_cols)"
      ],
      "metadata": {
        "colab": {
          "base_uri": "https://localhost:8080/"
        },
        "outputId": "a6082640-51ae-4eef-e59d-6b1363322d7d",
        "id": "jjKOKpveto-f"
      },
      "execution_count": null,
      "outputs": [
        {
          "output_type": "stream",
          "name": "stdout",
          "text": [
            "[0, 1, 3, 4, 5, 6, 7, 8, 11, 12, 13]\n"
          ]
        }
      ],
      "id": "jjKOKpveto-f"
    },
    {
      "cell_type": "code",
      "source": [
        "# to fetch the names of the columns using the index\n",
        "subsetColumnList = [columnList[i] for i in feat_cols] \n",
        "print(subsetColumnList)"
      ],
      "metadata": {
        "colab": {
          "base_uri": "https://localhost:8080/"
        },
        "outputId": "b73bc308-88d2-4f88-9943-52efc7a1fc66",
        "id": "VBvVUXg2to-g"
      },
      "execution_count": null,
      "outputs": [
        {
          "output_type": "stream",
          "name": "stdout",
          "text": [
            "['age', 'hypertension', 'avg_glucose_level', 'bmi', 'gender_Male', 'ever_married_Yes', 'work_type_Private', 'work_type_Self-employed', 'smoking_status_formerly smoked', 'smoking_status_never smoked', 'smoking_status_smokes']\n"
          ]
        }
      ],
      "id": "VBvVUXg2to-g"
    },
    {
      "cell_type": "code",
      "source": [],
      "metadata": {
        "id": "MggswpqRto-g"
      },
      "execution_count": null,
      "outputs": [],
      "id": "MggswpqRto-g"
    },
    {
      "cell_type": "code",
      "execution_count": null,
      "metadata": {
        "id": "7NAj454Qto-h"
      },
      "outputs": [],
      "source": [
        "## Here we are going to build Decision Regression model and Tune the hyperparameters for the same using \"GridSearchCV\""
      ],
      "id": "7NAj454Qto-h"
    },
    {
      "cell_type": "code",
      "source": [
        "X_train.head()"
      ],
      "metadata": {
        "colab": {
          "base_uri": "https://localhost:8080/",
          "height": 287
        },
        "outputId": "a93d9ab0-c9df-41ef-e00b-d578e4257ffe",
        "id": "jd96hSfVto-h"
      },
      "execution_count": null,
      "outputs": [
        {
          "output_type": "execute_result",
          "data": {
            "text/plain": [
              "            age  hypertension  heart_disease  avg_glucose_level        bmi  \\\n",
              "4677  70.000000             0              0         212.870000  34.800000   \n",
              "3728   0.720000             0              0         159.790000  19.900000   \n",
              "6137  55.588457             0              0          86.319787  34.065119   \n",
              "6200  69.650904             0              0         267.106463  35.282290   \n",
              "4991  80.000000             1              0          70.008861  31.505030   \n",
              "\n",
              "      gender_Male  ever_married_Yes  work_type_Private  \\\n",
              "4677            0                 1                  1   \n",
              "3728            1                 0                  0   \n",
              "6137            1                 1                  0   \n",
              "6200            0                 1                  0   \n",
              "4991            0                 0                  0   \n",
              "\n",
              "      work_type_Self-employed  work_type_children  Residence_type_Urban  \\\n",
              "4677                        0                   0                     0   \n",
              "3728                        0                   1                     0   \n",
              "6137                        0                   0                     0   \n",
              "6200                        0                   0                     0   \n",
              "4991                        0                   0                     0   \n",
              "\n",
              "      smoking_status_formerly smoked  smoking_status_never smoked  \\\n",
              "4677                               0                            1   \n",
              "3728                               0                            0   \n",
              "6137                               0                            0   \n",
              "6200                               0                            0   \n",
              "4991                               0                            1   \n",
              "\n",
              "      smoking_status_smokes  \n",
              "4677                      0  \n",
              "3728                      0  \n",
              "6137                      0  \n",
              "6200                      0  \n",
              "4991                      0  "
            ],
            "text/html": [
              "\n",
              "  <div id=\"df-b491fac7-53be-4e10-be7e-13cd463ed403\">\n",
              "    <div class=\"colab-df-container\">\n",
              "      <div>\n",
              "<style scoped>\n",
              "    .dataframe tbody tr th:only-of-type {\n",
              "        vertical-align: middle;\n",
              "    }\n",
              "\n",
              "    .dataframe tbody tr th {\n",
              "        vertical-align: top;\n",
              "    }\n",
              "\n",
              "    .dataframe thead th {\n",
              "        text-align: right;\n",
              "    }\n",
              "</style>\n",
              "<table border=\"1\" class=\"dataframe\">\n",
              "  <thead>\n",
              "    <tr style=\"text-align: right;\">\n",
              "      <th></th>\n",
              "      <th>age</th>\n",
              "      <th>hypertension</th>\n",
              "      <th>heart_disease</th>\n",
              "      <th>avg_glucose_level</th>\n",
              "      <th>bmi</th>\n",
              "      <th>gender_Male</th>\n",
              "      <th>ever_married_Yes</th>\n",
              "      <th>work_type_Private</th>\n",
              "      <th>work_type_Self-employed</th>\n",
              "      <th>work_type_children</th>\n",
              "      <th>Residence_type_Urban</th>\n",
              "      <th>smoking_status_formerly smoked</th>\n",
              "      <th>smoking_status_never smoked</th>\n",
              "      <th>smoking_status_smokes</th>\n",
              "    </tr>\n",
              "  </thead>\n",
              "  <tbody>\n",
              "    <tr>\n",
              "      <th>4677</th>\n",
              "      <td>70.000000</td>\n",
              "      <td>0</td>\n",
              "      <td>0</td>\n",
              "      <td>212.870000</td>\n",
              "      <td>34.800000</td>\n",
              "      <td>0</td>\n",
              "      <td>1</td>\n",
              "      <td>1</td>\n",
              "      <td>0</td>\n",
              "      <td>0</td>\n",
              "      <td>0</td>\n",
              "      <td>0</td>\n",
              "      <td>1</td>\n",
              "      <td>0</td>\n",
              "    </tr>\n",
              "    <tr>\n",
              "      <th>3728</th>\n",
              "      <td>0.720000</td>\n",
              "      <td>0</td>\n",
              "      <td>0</td>\n",
              "      <td>159.790000</td>\n",
              "      <td>19.900000</td>\n",
              "      <td>1</td>\n",
              "      <td>0</td>\n",
              "      <td>0</td>\n",
              "      <td>0</td>\n",
              "      <td>1</td>\n",
              "      <td>0</td>\n",
              "      <td>0</td>\n",
              "      <td>0</td>\n",
              "      <td>0</td>\n",
              "    </tr>\n",
              "    <tr>\n",
              "      <th>6137</th>\n",
              "      <td>55.588457</td>\n",
              "      <td>0</td>\n",
              "      <td>0</td>\n",
              "      <td>86.319787</td>\n",
              "      <td>34.065119</td>\n",
              "      <td>1</td>\n",
              "      <td>1</td>\n",
              "      <td>0</td>\n",
              "      <td>0</td>\n",
              "      <td>0</td>\n",
              "      <td>0</td>\n",
              "      <td>0</td>\n",
              "      <td>0</td>\n",
              "      <td>0</td>\n",
              "    </tr>\n",
              "    <tr>\n",
              "      <th>6200</th>\n",
              "      <td>69.650904</td>\n",
              "      <td>0</td>\n",
              "      <td>0</td>\n",
              "      <td>267.106463</td>\n",
              "      <td>35.282290</td>\n",
              "      <td>0</td>\n",
              "      <td>1</td>\n",
              "      <td>0</td>\n",
              "      <td>0</td>\n",
              "      <td>0</td>\n",
              "      <td>0</td>\n",
              "      <td>0</td>\n",
              "      <td>0</td>\n",
              "      <td>0</td>\n",
              "    </tr>\n",
              "    <tr>\n",
              "      <th>4991</th>\n",
              "      <td>80.000000</td>\n",
              "      <td>1</td>\n",
              "      <td>0</td>\n",
              "      <td>70.008861</td>\n",
              "      <td>31.505030</td>\n",
              "      <td>0</td>\n",
              "      <td>0</td>\n",
              "      <td>0</td>\n",
              "      <td>0</td>\n",
              "      <td>0</td>\n",
              "      <td>0</td>\n",
              "      <td>0</td>\n",
              "      <td>1</td>\n",
              "      <td>0</td>\n",
              "    </tr>\n",
              "  </tbody>\n",
              "</table>\n",
              "</div>\n",
              "      <button class=\"colab-df-convert\" onclick=\"convertToInteractive('df-b491fac7-53be-4e10-be7e-13cd463ed403')\"\n",
              "              title=\"Convert this dataframe to an interactive table.\"\n",
              "              style=\"display:none;\">\n",
              "        \n",
              "  <svg xmlns=\"http://www.w3.org/2000/svg\" height=\"24px\"viewBox=\"0 0 24 24\"\n",
              "       width=\"24px\">\n",
              "    <path d=\"M0 0h24v24H0V0z\" fill=\"none\"/>\n",
              "    <path d=\"M18.56 5.44l.94 2.06.94-2.06 2.06-.94-2.06-.94-.94-2.06-.94 2.06-2.06.94zm-11 1L8.5 8.5l.94-2.06 2.06-.94-2.06-.94L8.5 2.5l-.94 2.06-2.06.94zm10 10l.94 2.06.94-2.06 2.06-.94-2.06-.94-.94-2.06-.94 2.06-2.06.94z\"/><path d=\"M17.41 7.96l-1.37-1.37c-.4-.4-.92-.59-1.43-.59-.52 0-1.04.2-1.43.59L10.3 9.45l-7.72 7.72c-.78.78-.78 2.05 0 2.83L4 21.41c.39.39.9.59 1.41.59.51 0 1.02-.2 1.41-.59l7.78-7.78 2.81-2.81c.8-.78.8-2.07 0-2.86zM5.41 20L4 18.59l7.72-7.72 1.47 1.35L5.41 20z\"/>\n",
              "  </svg>\n",
              "      </button>\n",
              "      \n",
              "  <style>\n",
              "    .colab-df-container {\n",
              "      display:flex;\n",
              "      flex-wrap:wrap;\n",
              "      gap: 12px;\n",
              "    }\n",
              "\n",
              "    .colab-df-convert {\n",
              "      background-color: #E8F0FE;\n",
              "      border: none;\n",
              "      border-radius: 50%;\n",
              "      cursor: pointer;\n",
              "      display: none;\n",
              "      fill: #1967D2;\n",
              "      height: 32px;\n",
              "      padding: 0 0 0 0;\n",
              "      width: 32px;\n",
              "    }\n",
              "\n",
              "    .colab-df-convert:hover {\n",
              "      background-color: #E2EBFA;\n",
              "      box-shadow: 0px 1px 2px rgba(60, 64, 67, 0.3), 0px 1px 3px 1px rgba(60, 64, 67, 0.15);\n",
              "      fill: #174EA6;\n",
              "    }\n",
              "\n",
              "    [theme=dark] .colab-df-convert {\n",
              "      background-color: #3B4455;\n",
              "      fill: #D2E3FC;\n",
              "    }\n",
              "\n",
              "    [theme=dark] .colab-df-convert:hover {\n",
              "      background-color: #434B5C;\n",
              "      box-shadow: 0px 1px 3px 1px rgba(0, 0, 0, 0.15);\n",
              "      filter: drop-shadow(0px 1px 2px rgba(0, 0, 0, 0.3));\n",
              "      fill: #FFFFFF;\n",
              "    }\n",
              "  </style>\n",
              "\n",
              "      <script>\n",
              "        const buttonEl =\n",
              "          document.querySelector('#df-b491fac7-53be-4e10-be7e-13cd463ed403 button.colab-df-convert');\n",
              "        buttonEl.style.display =\n",
              "          google.colab.kernel.accessAllowed ? 'block' : 'none';\n",
              "\n",
              "        async function convertToInteractive(key) {\n",
              "          const element = document.querySelector('#df-b491fac7-53be-4e10-be7e-13cd463ed403');\n",
              "          const dataTable =\n",
              "            await google.colab.kernel.invokeFunction('convertToInteractive',\n",
              "                                                     [key], {});\n",
              "          if (!dataTable) return;\n",
              "\n",
              "          const docLinkHtml = 'Like what you see? Visit the ' +\n",
              "            '<a target=\"_blank\" href=https://colab.research.google.com/notebooks/data_table.ipynb>data table notebook</a>'\n",
              "            + ' to learn more about interactive tables.';\n",
              "          element.innerHTML = '';\n",
              "          dataTable['output_type'] = 'display_data';\n",
              "          await google.colab.output.renderOutput(dataTable, element);\n",
              "          const docLink = document.createElement('div');\n",
              "          docLink.innerHTML = docLinkHtml;\n",
              "          element.appendChild(docLink);\n",
              "        }\n",
              "      </script>\n",
              "    </div>\n",
              "  </div>\n",
              "  "
            ]
          },
          "metadata": {},
          "execution_count": 50
        }
      ],
      "id": "jd96hSfVto-h"
    },
    {
      "cell_type": "code",
      "source": [
        "X_train_new=pd.DataFrame(X_train[subsetColumnList])\n",
        "X_test_new=pd.DataFrame(X_test[subsetColumnList])"
      ],
      "metadata": {
        "id": "9oV5RSBjto-i"
      },
      "execution_count": null,
      "outputs": [],
      "id": "9oV5RSBjto-i"
    },
    {
      "cell_type": "code",
      "source": [
        "X_train_new.shape"
      ],
      "metadata": {
        "colab": {
          "base_uri": "https://localhost:8080/"
        },
        "outputId": "0d0d8683-235b-42da-83a4-7b773290dfc1",
        "id": "XGwLJGfVto-i"
      },
      "execution_count": null,
      "outputs": [
        {
          "output_type": "execute_result",
          "data": {
            "text/plain": [
              "(6247, 11)"
            ]
          },
          "metadata": {},
          "execution_count": 52
        }
      ],
      "id": "XGwLJGfVto-i"
    },
    {
      "cell_type": "code",
      "source": [
        "col_trans = ColumnTransformer([\n",
        "    ('ss', StandardScaler(), X_train_new.columns)])"
      ],
      "metadata": {
        "id": "mzCpQ1Keto-j"
      },
      "execution_count": null,
      "outputs": [],
      "id": "mzCpQ1Keto-j"
    },
    {
      "cell_type": "code",
      "source": [
        "# Building a pipeline\n",
        "pipeline = Pipeline([ ('preprocessor',col_trans),  # Scaling the data\n",
        "    ('algo',DecisionTreeClassifier())\n",
        "])"
      ],
      "metadata": {
        "id": "-j4VVrQuto-k"
      },
      "execution_count": null,
      "outputs": [],
      "id": "-j4VVrQuto-k"
    },
    {
      "cell_type": "code",
      "source": [
        "col_trans.fit(X_train_new)"
      ],
      "metadata": {
        "colab": {
          "base_uri": "https://localhost:8080/"
        },
        "outputId": "d0528d43-fecd-44c7-9823-aa53c6a74bf4",
        "id": "Puws2DgBto-l"
      },
      "execution_count": null,
      "outputs": [
        {
          "output_type": "execute_result",
          "data": {
            "text/plain": [
              "ColumnTransformer(transformers=[('ss', StandardScaler(),\n",
              "                                 Index(['age', 'hypertension', 'avg_glucose_level', 'bmi', 'gender_Male',\n",
              "       'ever_married_Yes', 'work_type_Private', 'work_type_Self-employed',\n",
              "       'smoking_status_formerly smoked', 'smoking_status_never smoked',\n",
              "       'smoking_status_smokes'],\n",
              "      dtype='object'))])"
            ]
          },
          "metadata": {},
          "execution_count": 55
        }
      ],
      "id": "Puws2DgBto-l"
    },
    {
      "cell_type": "code",
      "execution_count": null,
      "metadata": {
        "id": "cRay5kYkto-l"
      },
      "outputs": [],
      "source": [
        "### Parameters to tune.\n",
        "param_rf = [{'algo__criterion':['gini', 'entropy'],\n",
        "            'algo__max_depth':(7,25)}]"
      ],
      "id": "cRay5kYkto-l"
    },
    {
      "cell_type": "code",
      "source": [
        "# Create an instance of RandomizedSearchCV as model\n",
        "random_cv = RandomizedSearchCV(pipeline,param_rf,cv=5,n_jobs=-1,verbose=1)\n",
        "\n",
        "#learning\n",
        "random_cv.fit(X_train_new,y_train)\n",
        "\n",
        "# print best hyperparameters from shared set of parameters\n",
        "print(\"Best Hyper Parameters:\\n\",random_cv.best_params_)"
      ],
      "metadata": {
        "colab": {
          "base_uri": "https://localhost:8080/"
        },
        "outputId": "c63b989b-90a7-4085-9a55-cb9f5f275a80",
        "id": "qI4HTiNMto-l"
      },
      "execution_count": null,
      "outputs": [
        {
          "output_type": "stream",
          "name": "stdout",
          "text": [
            "Fitting 5 folds for each of 4 candidates, totalling 20 fits\n",
            "Best Hyper Parameters:\n",
            " {'algo__max_depth': 25, 'algo__criterion': 'gini'}\n"
          ]
        }
      ],
      "id": "qI4HTiNMto-l"
    },
    {
      "cell_type": "code",
      "source": [
        "#evaluation(Confusion Matrix)\n",
        "prediction_RS = random_cv.predict(X_test_new)\n",
        "print(\"Confusion Matrix:\\n\",metrics.confusion_matrix(prediction_RS,y_test))"
      ],
      "metadata": {
        "colab": {
          "base_uri": "https://localhost:8080/"
        },
        "outputId": "b33f443e-bb24-48c4-fdfd-6e0acaa0459e",
        "id": "zVawIwCPto-n"
      },
      "execution_count": null,
      "outputs": [
        {
          "output_type": "stream",
          "name": "stdout",
          "text": [
            "Confusion Matrix:\n",
            " [[852  73]\n",
            " [ 75 562]]\n"
          ]
        }
      ],
      "id": "zVawIwCPto-n"
    },
    {
      "cell_type": "code",
      "execution_count": null,
      "metadata": {
        "id": "1KifeGphto-n"
      },
      "outputs": [],
      "source": [
        "from sklearn.ensemble import RandomForestClassifier\n",
        "# Building a pipeline and passing the transformer and the classfier\n",
        "# Building a pipeline\n",
        "pipeline_dt = Pipeline([\n",
        "    ('preprocessor',col_trans),\n",
        "    ('algo',DecisionTreeClassifier(max_depth= 23, criterion= 'gini',random_state=0))\n",
        "])"
      ],
      "id": "1KifeGphto-n"
    },
    {
      "cell_type": "code",
      "execution_count": null,
      "metadata": {
        "outputId": "ee6dc829-2ea3-45de-c218-1da2bd138c5d",
        "colab": {
          "base_uri": "https://localhost:8080/"
        },
        "id": "WDn620Trto-n"
      },
      "outputs": [
        {
          "output_type": "execute_result",
          "data": {
            "text/plain": [
              "Pipeline(steps=[('preprocessor',\n",
              "                 ColumnTransformer(transformers=[('ss', StandardScaler(),\n",
              "                                                  Index(['age', 'hypertension', 'avg_glucose_level', 'bmi', 'gender_Male',\n",
              "       'ever_married_Yes', 'work_type_Private', 'work_type_Self-employed',\n",
              "       'smoking_status_formerly smoked', 'smoking_status_never smoked',\n",
              "       'smoking_status_smokes'],\n",
              "      dtype='object'))])),\n",
              "                ('algo', DecisionTreeClassifier(max_depth=23, random_state=0))])"
            ]
          },
          "metadata": {},
          "execution_count": 60
        }
      ],
      "source": [
        "## Fitting the pipeline on the train data.\n",
        "pipeline_dt.fit(X_train_new,y_train)"
      ],
      "id": "WDn620Trto-n"
    },
    {
      "cell_type": "code",
      "execution_count": null,
      "metadata": {
        "outputId": "20ab645f-cd00-48e5-9dd1-45bc1aca63da",
        "colab": {
          "base_uri": "https://localhost:8080/"
        },
        "id": "bvACMA91to-o"
      },
      "outputs": [
        {
          "output_type": "stream",
          "name": "stdout",
          "text": [
            "Accuracy: 0.9090909090909091\n",
            "Recall: 0.8857589984350548\n",
            "Confusion Matrix:\n",
            "               precision    recall  f1-score   support\n",
            "\n",
            "           0       0.92      0.93      0.92       923\n",
            "           1       0.89      0.89      0.89       639\n",
            "\n",
            "    accuracy                           0.91      1562\n",
            "   macro avg       0.91      0.91      0.91      1562\n",
            "weighted avg       0.91      0.91      0.91      1562\n",
            "\n"
          ]
        }
      ],
      "source": [
        "## Prediction on test data\n",
        "prediction_dt = pipeline_dt.predict(X_test_new)\n",
        "\n",
        "## Computing Accuracy, Recall, and Confusion matrix for test data\n",
        "print(\"Accuracy:\",metrics.accuracy_score(prediction_dt,y_test))\n",
        "print(\"Recall:\",metrics.recall_score(prediction_dt,y_test))\n",
        "print(\"Confusion Matrix:\\n\",metrics.classification_report(prediction_dt,y_test))"
      ],
      "id": "bvACMA91to-o"
    },
    {
      "cell_type": "markdown",
      "id": "533863f6",
      "metadata": {
        "id": "533863f6"
      },
      "source": [
        "## Conclusions:"
      ]
    },
    {
      "cell_type": "markdown",
      "id": "09323969",
      "metadata": {
        "id": "09323969"
      },
      "source": [
        "### 16. Compare the evaluation metrics of the base model with imbalanced data, and the best performing model with balanced data, and write your conclusion. Mention the steps taken to improve the performance of the model."
      ]
    },
    {
      "cell_type": "code",
      "execution_count": null,
      "id": "019c5b89",
      "metadata": {
        "id": "019c5b89",
        "outputId": "6007eb1e-a02d-4d55-a870-9d160ed7fecf",
        "colab": {
          "base_uri": "https://localhost:8080/"
        }
      },
      "outputs": [
        {
          "output_type": "stream",
          "name": "stdout",
          "text": [
            "\u001b[1;46;13m Performance of Base model on Imbalanced Data:\u001b[0;0m\n",
            "Accuracy: 0.9418254764292878\n",
            "Recall: 0.0\n",
            "Confusion Matrix:\n",
            "               precision    recall  f1-score   support\n",
            "\n",
            "           0       1.00      0.95      0.97       993\n",
            "           1       0.00      0.00      0.00         4\n",
            "\n",
            "    accuracy                           0.94       997\n",
            "   macro avg       0.50      0.47      0.49       997\n",
            "weighted avg       0.99      0.94      0.97       997\n",
            "\n",
            "----------------------------------------------------------------------------------------------------\n",
            "\u001b[1;46;13m Performance of Random Forest Algorithm with tuned hyperparameters, on Balanced Data:\u001b[0;0m\n",
            "Accuracy: 0.9302176696542894\n",
            "Recall: 0.926948051948052\n",
            "Confusion Matrix:\n",
            "               precision    recall  f1-score   support\n",
            "\n",
            "           0       0.95      0.93      0.94       946\n",
            "           1       0.90      0.93      0.91       616\n",
            "\n",
            "    accuracy                           0.93      1562\n",
            "   macro avg       0.93      0.93      0.93      1562\n",
            "weighted avg       0.93      0.93      0.93      1562\n",
            "\n",
            "----------------------------------------------------------------------------------------------------\n"
          ]
        }
      ],
      "source": [
        "print('\\033[1;46;13m Performance of Base model on Imbalanced Data:\\033[0;0m')\n",
        "print(\"Accuracy:\",metrics.accuracy_score(og_prediction,y_test_base))\n",
        "print(\"Recall:\",metrics.recall_score(og_prediction,y_test_base))\n",
        "print(\"Confusion Matrix:\\n\",metrics.classification_report(og_prediction,y_test_base))\n",
        "print('--'*50)\n",
        "\n",
        "print('\\033[1;46;13m Performance of Random Forest Algorithm with tuned hyperparameters, on Balanced Data:\\033[0;0m')\n",
        "print(\"Accuracy:\",metrics.accuracy_score(prediction_rf,y_test))\n",
        "print(\"Recall:\",metrics.recall_score(prediction_rf,y_test))\n",
        "print(\"Confusion Matrix:\\n\",metrics.classification_report(prediction_rf,y_test))\n",
        "print('--'*50)"
      ]
    },
    {
      "cell_type": "markdown",
      "id": "8697d352",
      "metadata": {
        "id": "8697d352"
      },
      "source": [
        "To conclude:\n",
        "- We can observe from the above results comparison of base model and the tuned model, we can clearly see the impact of handling imbalanced data, feature selection and hyperparameter tuning, we had a recall score of zero where we used original imbalanced data, after we handled imbalanced data and selected best K features and tuned hyperparameters, we have a recall score greater than 80% for random forest classifier model and the decision tree classifier model.\n",
        "- First we have balanced our imbalanced data using Oversampling approach.\n",
        "- We had around 14 features in the balanced dataset. Out of 14 features we selected K=11 as the best features based on the feature importance.\n",
        "- Then we have tuned the hyperparameters for the Random Forest Classifier using the GridSearchCV with 5folds on the K best features.(the best combination of hyperparameters were 'max_depth': 23, 'n_estimators': 500}).\n",
        "- We have also tuned the hyperparameters for the Decision Tree Classifier using the RandomozedSearchCV with 5folds on the K best features.(the best combination of hyperparameters were 'max_depth': 25, 'criterion': 'gini'}).\n",
        "- Then we have built a pipeline, where when we pass the train data with best features, it will first scale the data, and then fit the RF and DT model with tuned parameters.\n",
        "- From the both models that we have built we would prefer Random Forest algorithm over the Decision Tree Classifier based on the algorithm performance on the data. \n",
        "- In this notebook, we have tried only a single approch when comes to balancing the data, two methods of feature selection, and have implemented two models for model selection and performed respective hyperparameter tuning. Further, we can try out different data balancing approach, feature selection, and different models and hyperparameters to get best results."
      ]
    }
  ],
  "metadata": {
    "kernelspec": {
      "display_name": "Python 3 (ipykernel)",
      "language": "python",
      "name": "python3"
    },
    "language_info": {
      "codemirror_mode": {
        "name": "ipython",
        "version": 3
      },
      "file_extension": ".py",
      "mimetype": "text/x-python",
      "name": "python",
      "nbconvert_exporter": "python",
      "pygments_lexer": "ipython3",
      "version": "3.9.7"
    },
    "colab": {
      "provenance": [],
      "collapsed_sections": [
        "718a1cb3",
        "0df4b6e9"
      ],
      "include_colab_link": true
    }
  },
  "nbformat": 4,
  "nbformat_minor": 5
}